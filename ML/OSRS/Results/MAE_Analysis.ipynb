{
 "cells": [
  {
   "cell_type": "code",
   "execution_count": 1,
   "metadata": {},
   "outputs": [],
   "source": [
    "import pickle\n",
    "from pprint import pprint\n",
    "import numpy as np\n",
    "import matplotlib.pyplot as plt"
   ]
  },
  {
   "cell_type": "code",
   "execution_count": 2,
   "metadata": {},
   "outputs": [
    {
     "name": "stdout",
     "output_type": "stream",
     "text": [
      "/home/makoa/School/osrs_research\n",
      "['/usr/lib/python36.zip', '/usr/lib/python3.6', '/usr/lib/python3.6/lib-dynload', '', '/home/makoa/.local/lib/python3.6/site-packages', '/usr/local/lib/python3.6/dist-packages', '/usr/lib/python3/dist-packages', '/home/makoa/.local/lib/python3.6/site-packages/IPython/extensions', '/home/makoa/.ipython', '/home/makoa/School/osrs_research']\n"
     ]
    }
   ],
   "source": [
    "import sys\n",
    "import os\n",
    "address = (os.sep).join(os.getcwd().split(os.sep)[:-3])\n",
    "print(address)\n",
    "sys.path.append(address)\n",
    "print(sys.path)\n",
    "import util.items as items\n",
    "import util.scraper as scraper"
   ]
  },
  {
   "cell_type": "code",
   "execution_count": 3,
   "metadata": {},
   "outputs": [],
   "source": [
    "with open('all.pickle','rb') as f:\n",
    "    results = pickle.load(f)"
   ]
  },
  {
   "cell_type": "code",
   "execution_count": 4,
   "metadata": {},
   "outputs": [
    {
     "data": {
      "text/plain": [
       "2115"
      ]
     },
     "execution_count": 4,
     "metadata": {},
     "output_type": "execute_result"
    }
   ],
   "source": [
    "len(results)"
   ]
  },
  {
   "cell_type": "code",
   "execution_count": 5,
   "metadata": {},
   "outputs": [
    {
     "data": {
      "text/plain": [
       "dict_keys(['sma', 'buyAndHold', 'startMAE', 'predictions', 'persist', 'endMAE', 'sma_model', 'stochOscil', 'numPrices', 'budget', 'momentum_model', 'testPrices', 'momentum', 'endLoss', 'numEpochs', 'startLoss', 'model_opt', 'perfect', 'opt_params', 'item', 'model', 'stochOscil_model'])"
      ]
     },
     "execution_count": 5,
     "metadata": {},
     "output_type": "execute_result"
    }
   ],
   "source": [
    "results['Abyssal_whip'].keys()"
   ]
  },
  {
   "cell_type": "code",
   "execution_count": 16,
   "metadata": {},
   "outputs": [],
   "source": [
    "mae = [results[item]['endMAE'] for item in results]\n",
    "maeChange = [results[item]['startMAE']-results[item]['endMAE'] for item in results]"
   ]
  },
  {
   "cell_type": "code",
   "execution_count": 17,
   "metadata": {},
   "outputs": [
    {
     "data": {
      "image/png": "[encoded data removed]",
      "text/plain": [
       "<Figure size 432x288 with 1 Axes>"
      ]
     },
     "metadata": {
      "needs_background": "light"
     },
     "output_type": "display_data"
    },
    {
     "data": {
      "image/png": "[encoded data removed]",
      "text/plain": [
       "<Figure size 432x288 with 1 Axes>"
      ]
     },
     "metadata": {
      "needs_background": "light"
     },
     "output_type": "display_data"
    }
   ],
   "source": [
    "plt.hist(mae,20)\n",
    "plt.show()\n",
    "plt.hist(maeChange,20)\n",
    "plt.show()"
   ]
  },
  {
   "cell_type": "code",
   "execution_count": 12,
   "metadata": {},
   "outputs": [],
   "source": [
    "maeChange = [(item,results[item]['startMAE']-results[item]['endMAE']) for item in results]\n",
    "maeChange = sorted(maeArr, key=lambda x: x[1], reverse=True)"
   ]
  },
  {
   "cell_type": "code",
   "execution_count": 13,
   "metadata": {},
   "outputs": [
    {
     "name": "stdout",
     "output_type": "stream",
     "text": [
      "[(\"Bob's_blue_shirt\", 2.651237633265555), (\"Red_spiders'_eggs\", 2.1952215605584735), ('Adamant_shield_(h1)', 2.141125755824826), ('Golden_scarab', 1.9443186295980759), ('Strength_mix(2)', 1.9062689213590187), ('Guthix_stole', 1.8896975981240924), ('Armadyl_page_3', 1.8887587689540604), ('Infinity_top', 1.8837679120288655), ('Adamant_javelin', 1.8443381102247673), ('Holy_symbol', 1.8282470204613426), ('Blue_wizard_hat', 1.8025506043976003), ('Wooden_cat', 1.7742957498539578), ('Sapphire_bolt_tips', 1.7213745365765962), ('Yew_roots', 1.7098051553761415), ('Highwayman_mask', 1.6932982811365616), ('Dagannoth_hide', 1.6664517995986072), ('Cat_mask', 1.6618133612654427), ('Oak_shortbow', 1.6319997024807065), ('Bronze_dagger(p++)', 1.6104843006215313), ('Brown_headband', 1.6008644521236421), ('Master_wand', 1.5958192016590724), ('Team-20_cape', 1.5854482196948745), ('Torstol_potion_(unf)', 1.5831759597767483), ('Super_restore(1)', 1.5799532901495694), ('Black_boater', 1.5648755026134578), ('Ranarr_potion_(unf)', 1.5427277778698638), ('Bronze_scimitar', 1.5334921313280407), ('Mithril_full_helm', 1.528963848135688), ('Adamant_shield_(h2)', 1.5229024123061787), ('Weapon_poison(++)', 1.5200269404460083), ('Toadflax_seed', 1.4891478054225444), (\"Relicym's_mix(1)\", 1.488673396408558), ('Saradomin_mitre', 1.4859213604168457), ('Calquat_sapling', 1.4781106344678183), (\"Dharok's_platebody_0\", 1.477018541216173), ('Ghorrock_teleport', 1.4747272081334484), ('Bat_bones', 1.4660366778346625), ('Papaya_tree_seed', 1.4531475775282492), ('Leaping_trout', 1.4476284914396025), ('Needle', 1.4417361963878979), ('Sinew', 1.4313709332861684), ('Dark_infinity_colour_kit', 1.4280775782736865), (\"Green_d'hide_body_(t)\", 1.4216090542010285), ('Mind_rune', 1.4080516601150688), ('Orange_feather', 1.3982482967051593), ('Bronze_trimmed_set_(sk)', 1.3951708444140174), ('Leather_vambraces', 1.379623774506829), (\"Karil's_leatherskirt_0\", 1.3758011840961197), ('Ham_gloves', 1.3745570870285684), ('Weapon_poison', 1.373687146333131), ('Team-1_cape', 1.3656845276751979), ('Guthix_page_3', 1.3647187823599034), ('Vampyre_dust', 1.3627494314854796), ('Grey_hat', 1.3609792243689298), ('Odium_shard_2', 1.3607342306863177), ('Asgarnian_seed', 1.3545135090296918), ('Grimy_ranarr_weed', 1.3527834465557877), ('Bandos_coif', 1.3417280358685688), ('Lunar_isle_teleport', 1.3381683027541094), ('Infinity_hat', 1.3348112218759276), ('Berserker_ring', 1.3342958753081886), ('Raw_monkfish', 1.3270161065865647), ('Saradomin_armour_set_(lg)', 1.3234010367230935), ('Iron_full_helm_(g)', 1.3213001066988164), ('Bronze_dagger', 1.3183374639261851), ('Leather', 1.3091610032049092), ('Bandos_page_1', 1.3086841894483023), ('Strawberries(5)', 1.3062120651656932), ('Strength_potion(3)', 1.3061712229116396), ('Saradomin_coif', 1.3034519475630737), ('Green_spiky_vambs', 1.3007113275202837), ('Leaf-bladed_sword', 1.298338574035601), ('Iron_knife(p+)', 1.296708097783002), ('Fishing_bait', 1.2958300040526824), ('Spade', 1.2927831422198903), ('Battlestaff', 1.2902745688503439), ('Iron_arrow', 1.28965530666438), ('Armadyl_stole', 1.2851167283274911), ('Musketeer_hat', 1.2818221520971167), ('Blue_dye', 1.2799890980971131), ('Zamorak_godsword', 1.2779676272449167), ('Big_fishing_net', 1.27290157567371), (\"Karil's_leatherskirt\", 1.2631602868099105), ('Cannon_furnace', 1.2604005466807973), ('Red_topaz', 1.2483877164396373), ('Zamorak_robe_legs', 1.246229383654215), ('Iron_dart', 1.2429448211734946), ('Fly_fishing_rod', 1.2384138989854945), ('Fremennik_blue_shirt', 1.2363830785859715), ('Wool', 1.2303945726545698), (\"Guthan's_warspear\", 1.2282622317698868), ('Strange_fruit', 1.225387301092798), ('Rune_dagger(p++)', 1.2187639573419635), ('Edible_seaweed', 1.2138209007680416), (\"Torag's_helm_0\", 1.2125251380896027), ('Black_set_(lg)', 1.2116661866280167), ('Green_boater', 1.2114747919142246), ('Malediction_shard_3', 1.2114556671543555), ('Adamant_trimmed_set_(sk)', 1.2089487058703194), ('Bolt_rack', 1.2080902681431989)]\n"
     ]
    }
   ],
   "source": [
    "print(maeChange[:100])"
   ]
  },
  {
   "cell_type": "code",
   "execution_count": 15,
   "metadata": {},
   "outputs": [
    {
     "name": "stdout",
     "output_type": "stream",
     "text": [
      "[('Mystic_water_staff', 0.22856758368963548), ('Mithril_brutal', 0.228034421115775), ('Ruby_necklace', 0.22799404307522564), ('Raw_rainbow_fish', 0.2267853786999529), ('Spiny_helmet', 0.22652934613552955), ('Black_kiteshield', 0.22517734881151807), ('Mystic_gloves_(light)', 0.22460687695579096), ('Dark_fishing_bait', 0.2211255355314774), (\"Verac's_helm\", 0.21836326490579683), ('Dragon_dagger(p)', 0.2153264433145523), ('Iron_arrowtips', 0.21505481722679998), ('Combat_bracelet', 0.21413309011947024), ('Fire_battlestaff', 0.21182735704562883), ('Emerald_bolt_tips', 0.20818568518893277), ('Dust_rune', 0.20557801479643042), ('Steel_dagger(p)', 0.20510313321243634), ('Rune_pickaxe', 0.20490279367024244), ('Saradomin_plateskirt', 0.20196566385301684), ('Noose_wand', 0.20038689442656255), ('Filled_plant_pot', 0.19990827495401553), ('Tarromin_tar', 0.19841252826154232), ('Adamantite_bar', 0.19790965162894936), ('Bandos_plateskirt', 0.19767994115298448), ('Zamorak_mix(1)', 0.19517047703266144), ('Zul-andra_teleport', 0.1951495235616511), ('Amulet_of_glory(4)', 0.1886165820739486), ('Teasing_stick', 0.18785664520480416), ('Bandos_godsword', 0.18642522557215258), ('Water_tiara', 0.18346236903559077), ('Banana_stew', 0.17997362965887242), ('Red_dragon_leather', 0.1796777890741148), ('Rune_scimitar', 0.17366299703717236), ('Mithril_plateskirt', 0.17173911495642225), ('Eye_of_newt', 0.1704728614200245), (\"Verac's_brassard_0\", 0.1700110654939304), ('Green_dragon_leather', 0.16668043465099547), ('Marrentill_tar', 0.16452719271183014), ('Rune_battleaxe', 0.1629172870042649), ('Rune_warhammer', 0.1560115677389231), ('Skeletal_bottoms', 0.15397801785306497), ('Ring_of_wealth', 0.1520426379008727), ('Fremennik_yellow_cloak', 0.15157003409483216), ('Bucket', 0.15053084817799656), ('Soul_rune', 0.14815053723075167), ('Skeletal_top', 0.14490007989277887), ('Dragon_med_helm', 0.1404532572762533), ('Phoenix_necklace', 0.14009987123479894), ('Mithril_pickaxe', 0.1393697706135837), ('Rock-climbing_boots', 0.13591986894607544), ('Splitbark_helm', 0.13233680169690742), ('Rune_sword', 0.13171877603639248), ('Dragon_dagger', 0.1314963541247628), ('Rune_longsword', 0.1241788364269516), ('Mystic_robe_top_(dark)', 0.12009884850545371), ('Skills_necklace(4)', 0.11474260007115922), ('Rune_2h_sword', 0.11187184744260525), ('Rune_dagger', 0.11097844371741461), ('Oak_magic_wardrobe', 0.10804663179442286), ('Iron_javelin(p+)', 0.10730109363794327), ('Initiate_sallet', 0.10658771964636715), ('Red_spiky_vambs', 0.1056687953797254), ('Uncut_dragonstone', 0.10564584283327516), ('Adamant_kiteshield', 0.10557604313574054), ('Rune_platelegs', 0.10181409459222446), ('Dragonstone_ring', 0.10060805624181579), (\"Premade_w'm_batta\", 0.09816677076742053), ('Granite_shield', 0.09572962695224718), (\"Blue_d'hide_chaps\", 0.08664157079024748), ('Skills_necklace', 0.08335339281369336), ('Rune_halberd', 0.08130193403498698), ('Dragon_dagger(p+)', 0.07954349253665327), ('Water_rune', 0.07930310869758778), ('Rune_claws', 0.0722191695462574), (\"Red_d'hide_body\", 0.06102345511317253), (\"Premade_dr'_dragon\", 0.05282557010650635), ('Stone_seal', 0.04388417770916764), ('Fire_rune', 0.039199900762601325), ('Nasturtium_seed', 0.03590450454503297), ('Compost', 0.034267252683639615), ('Dragon_spear', 0.022728189318017566), ('Mystic_robe_top', 0.006440054963935515), ('Cannon_stand', 0.00504704297266223), ('Kebab_mix', 0.0022494938563216715), ('Arrow_shaft', -0.0071135759353637695), ('Guam_tar', -0.010342079807411558), ('Mystic_lava_staff', -0.011633128130977832), ('Snowy_knight', -0.014664857495914785), ('Castle_wars_bracelet(3)', -0.023359964296899016), ('Mystic_robe_bottom', -0.023728997395797147), ('Cabbage_seed', -0.031522542238235474), ('Combat_bracelet(4)', -0.06100094697692171), ('Dragon_halberd', -0.08680833588269632), ('Bronze_bolts', -0.08755548447370526), ('Shield_left_half', -0.0949885796078227), ('Earth_rune', -0.10546615516597574), ('Oak_kitchen_table', -0.12782984972000122), ('Tomato_seed', -0.14289702593602915), ('Potato_seed', -0.16646630316972733), ('Dragon_scimitar', -0.17189809708771375), ('Orange_chunks', -0.2954190644350918)]\n"
     ]
    }
   ],
   "source": [
    "print(maeChange[-100:])"
   ]
  },
  {
   "cell_type": "code",
   "execution_count": 21,
   "metadata": {},
   "outputs": [],
   "source": [
    "prices = [items.getPrices(item)[-1] for item in results]\n",
    "variance = [np.var(results[item]['testPrices']) for item in results]\n",
    "buylimits = [int(items.getInfo(item)['buyLimit']) for item in results]\n",
    "profs = [results[item]['model'] for item in results]\n",
    "pers = [results[item]['persist'] for item in results]\n",
    "perf = [results[item]['perfect'] for item in results]\n",
    "bah = [results[item]['buyAndHold'] for item in results]\n",
    "mae = [results[item]['endMAE'] for item in results]\n",
    "prof_perf_diff = [abs(results[item]['perfect'] - results[item]['model']) for item in results]"
   ]
  },
  {
   "cell_type": "code",
   "execution_count": 22,
   "metadata": {},
   "outputs": [
    {
     "name": "stdout",
     "output_type": "stream",
     "text": [
      "price,mae -0.0030459703689468304\n",
      "bl,price 0.011552200991384707\n",
      "prof,pers -0.08929415982378207\n",
      "mae,perf 0.059780832149030065\n",
      "mae,bah -0.04244576522604867\n",
      "profdiff,mae 0.06058094731635594\n",
      "variance,mae -0.016863394100601357\n"
     ]
    }
   ],
   "source": [
    "print('price,mae',np.corrcoef(prices,mae)[0][1])\n",
    "print('bl,price',np.corrcoef(buylimits,mae)[0][1])\n",
    "print('prof,pers',np.corrcoef(mae,pers)[0][1])\n",
    "print('mae,perf',np.corrcoef(mae,perf)[0][1])\n",
    "print('mae,bah',np.corrcoef(mae,bah)[0][1])\n",
    "print('profdiff,mae',np.corrcoef(prof_perf_diff,mae)[0][1])\n",
    "print('variance,mae',np.corrcoef(variance,mae)[0][1])"
   ]
  },
  {
   "cell_type": "code",
   "execution_count": null,
   "metadata": {},
   "outputs": [],
   "source": []
  }
 ],
 "metadata": {
  "kernelspec": {
   "display_name": "Python 3",
   "language": "python",
   "name": "python3"
  },
  "language_info": {
   "codemirror_mode": {
    "name": "ipython",
    "version": 3
   },
   "file_extension": ".py",
   "mimetype": "text/x-python",
   "name": "python",
   "nbconvert_exporter": "python",
   "pygments_lexer": "ipython3",
   "version": "3.6.7"
  }
 },
 "nbformat": 4,
 "nbformat_minor": 2
}
