{
 "cells": [
  {
   "cell_type": "code",
   "execution_count": 2,
   "metadata": {
    "collapsed": true
   },
   "outputs": [],
   "source": [
    "import matplotlib.pyplot as py\n",
    "import scraper"
   ]
  },
  {
   "cell_type": "code",
   "execution_count": 3,
   "metadata": {},
   "outputs": [],
   "source": [
    "def priceChanges(prices):\n",
    "    absChange = [0]*(len(prices)-1)\n",
    "    percChange = [0]*(len(prices)-1)\n",
    "    for i in range(0,len(prices)-1):\n",
    "        absChange[i] = prices[i+1]-prices[i]\n",
    "        percChange[i] = absChange[i]/prices[i]\n",
    "    return absChange,percChange\n",
    "\n",
    "def marginChanges(prices,buylimit):\n",
    "    absChange = [0]*(len(prices)-1)\n",
    "    percChange = [0]*(len(prices)-1)\n",
    "    for i in range(0,len(prices)-1):\n",
    "        absChange[i] = prices[i+1]*buylimit-prices[i]*buylimit\n",
    "        percChange[i] = absChange[i]/(prices[i]*buylimit)\n",
    "    return absChange,percChange"
   ]
  },
  {
   "cell_type": "code",
   "execution_count": 10,
   "metadata": {},
   "outputs": [],
   "source": [
    "with open('itemsInfo.tsv','r') as f:\n",
    "    lines = [a.split('\\t') for a in f.readlines()]"
   ]
  },
  {
   "cell_type": "code",
   "execution_count": 20,
   "metadata": {},
   "outputs": [
    {
     "name": "stdout",
     "output_type": "stream",
     "text": [
      "3rd_age_amulet -1 30300\n3rd_age_axe 460163167 -1\n3rd_age_bow 331018335 45000\n3rd_age_bow 331018335 45000\n3rd_age_cloak 265514273 25500\n3rd_age_cloak 265514273 25500\n3rd_age_full_helmet -1 54000\n3rd_age_kiteshield -1 108000\n3rd_age_longsword 759567915 45000\n3rd_age_longsword 759567915 45000\n3rd_age_mage_hat -1 30240\n3rd_age_pickaxe 725431415 -1\n3rd_age_platebody -1 120000\n3rd_age_platelegs -1 120000\n3rd_age_range_coif -1 30240\n3rd_age_range_legs -1 30360\n3rd_age_range_top -1 30480\n3rd_age_robe -1 30360\n3rd_age_robe_top -1 30480\n3rd_age_vambraces -1 30300\n3rd_age_wand 94416463 45000\n3rd_age_wand 94416463 45000\nA_powdered_wig -1 1200\nAbyssal_bludgeon 28666629 -1\nAbyssal_bracelet(5) 2276 1260\nAbyssal_dagger_(p++) 9660054 -1\nAbyssal_dagger 9656031 -1\nAbyssal_dagger_(p+) 10081455 -1\nAbyssal_dagger_(p) 10060488 -1\nAbyssal_whip 2538287 36000\nAbyssal_whip 2538287 36000\nAchey_tree_logs 234 -1\nAcorn 52 -1\nAdamant_2h_sword 3574 1920\nAdamant_2h_sword 3574 1920\nAdamant_arrow(p) 174 -1\nAdamant_arrow(p++) 59 -1\nAdamant_arrow 56 -1\nAdamant_arrow(p+) 513 -1\nAdamant_arrowtips 104 -1\nAdamant_axe 730 384\nAdamant_axe 730 384\nAdamant_battleaxe 2216 1248\nAdamant_battleaxe 2216 1248\nAdamant_bolts 181 -1\nAdamant_bolts_(p) 348 -1\nAdamant_bolts_(p++) 1901 -1\nAdamant_bolts_(p+) 669 -1\nAdamant_bolts(unf) 196 -1\nAdamant_boots 997 576\nAdamant_boots 997 576\nAdamant_brutal 238 -1\nAdamant_cane 983 432\nAdamant_cane 983 432\nAdamant_chainbody 2665 1440\nAdamant_chainbody 2665 1440\nAdamant_claws 1839 360\nAdamant_claws 1839 360\nAdamant_crossbow 1564 530\nAdamant_crossbow 1564 530\nAdamant_crossbow_(u) 1514 519\nAdamant_dagger 271 240\nAdamant_dagger 271 240\nAdamant_dagger(p+) 3455 240\nAdamant_dagger(p+) 3455 240\nAdamant_dagger(p++) 7887 240\nAdamant_dagger(p++) 7887 240\nAdamant_dagger(p) 627 240\nAdamant_dagger(p) 627 240\nAdamant_dart 164 -1\nAdamant_dart(p) 159 -1\nAdamant_dart(p+) 547 -1\nAdamant_dart(p++) 1229 -1\nAdamant_dart_tip 216 -1\nAdamant_full_helm 1865 1056\nAdamant_full_helm 1865 1056\nAdamant_full_helm_(g) 23796 1056\nAdamant_full_helm_(g) 23796 1056\nAdamant_full_helm_(t) 5575 1056\nAdamant_full_helm_(t) 5575 1056\nAdamant_gold-trimmed_set_(lg) 156440 2400\nAdamant_gold-trimmed_set_(lg) 156440 2400\nAdamant_gold-trimmed_set_(sk) 164869 2400\nAdamant_gold-trimmed_set_(sk) 164869 2400\nAdamant_halberd 9959 1920\nAdamant_halberd 9959 1920\nAdamant_hasta 996 624\nAdamant_hasta 996 624\nAdamant_hasta(p) 4951 624\nAdamant_hasta(p) 4951 624\nAdamant_hasta(p+) 5260 624\nAdamant_hasta(p+) 5260 624\nAdamant_hasta(p++) 7745 624\nAdamant_hasta(p++) 7745 624\nAdamant_helm_(h1) -1 2112\nAdamant_helm_(h2) -1 2112\nAdamant_helm_(h3) -1 2112\nAdamant_helm_(h4) -1 2112\nAdamant_helm_(h5) -1 2112\nAdamant_javelin(p) 121 -1\nAdamant_javelin 44 -1\nAdamant_javelin(p+) 113 -1\nAdamant_javelin(p++) 148 -1\nAdamant_javelin_heads 145 -1\nAdamant_kiteshield 2981 1632\nAdamant_kiteshield 2981 1632\nAdamant_kiteshield_(g) 34740 1632\nAdamant_kiteshield_(g) 34740 1632\nAdamant_kiteshield_(t) 6402 1632\nAdamant_kiteshield_(t) 6402 1632\nAdamant_knife(p) 507 -1\nAdamant_knife 366 -1\nAdamant_knife(p+) 306 -1\nAdamant_knife(p++) 1987 -1\nAdamant_longsword 1663 960\nAdamant_longsword 1663 960\nAdamant_mace 628 432\nAdamant_mace 628 432\nAdamant_med_helm 923 576\nAdamant_med_helm 923 576\nAdamant_pickaxe 3864 960\nAdamant_pickaxe 3864 960\nAdamant_platebody 9588 4992\nAdamant_platebody 9588 4992\nAdamant_platebody_(g) 76483 4992\nAdamant_platebody_(g) 76483 4992\nAdamant_platebody_(t) 13743 4992\nAdamant_platebody_(t) 13743 4992\nAdamant_platelegs 3583 1920\nAdamant_platelegs 3583 1920\nAdamant_platelegs_(g) 10582 1920\nAdamant_platelegs_(g) 10582 1920\nAdamant_platelegs_(t) 5095 1920\nAdamant_platelegs_(t) 5095 1920\nAdamant_plateskirt 4192 1920\nAdamant_plateskirt 4192 1920\nAdamant_plateskirt_(g) 3827 1920\nAdamant_plateskirt_(g) 3827 1920\nAdamant_plateskirt_(t) 3526 1920\nAdamant_plateskirt_(t) 3526 1920\nAdamant_scimitar 1387 768\nAdamant_scimitar 1387 768\nAdamant_set_(lg) 18348 2400\nAdamant_set_(lg) 18348 2400\nAdamant_set_(sk) 21524 2400\nAdamant_set_(sk) 21524 2400\nAdamant_shield_(h1) -1 3264\nAdamant_shield_(h2) -1 3264\nAdamant_shield_(h3) -1 3264\nAdamant_shield_(h4) -1 3264\nAdamant_shield_(h5) -1 3264\nAdamant_shield_(h5) -1 3264\nAdamant_spear 1000 624\nAdamant_spear 1000 624\nAdamant_spear(p++) 2968 624\nAdamant_spear(p++) 2968 624\nAdamant_spear(p) 1001 624\nAdamant_spear(p) 1001 624\nAdamant_spear(p+) 1482 624\nAdamant_spear(p+) 1482 624\nAdamant_sq_shield 2025 1152\nAdamant_sq_shield 2025 1152\nAdamant_sword 1137 624\nAdamant_sword 1137 624\nAdamant_thrownaxe 139 -1\nAdamant_trimmed_set_(lg) 37994 2400\nAdamant_trimmed_set_(lg) 37994 2400\nAdamant_trimmed_set_(sk) 55992 2400\nAdamant_trimmed_set_(sk) 55992 2400\nAdamant_warhammer 2381 1236\nAdamant_warhammer 2381 1236\nAdamantite_bar 2049 -1\nAdamantite_limbs 2031 480\nAdamantite_nails 114 -1\nAdamantite_ore 1069 -1\nAdmiral_pie -1 -1\nAfro 46818 205\nAfro 46818 205\nAgility_mix(2) 1365 -1\nAgility_mix(1) 800 -1\nAgility_potion(2) -1 -1\nAgility_potion(1) -1 -1\nAgility_potion(3) -1 -1\nAgility_potion(4) -1 -1\nAhrim's_armour_set 4291350 60000\nAhrim's_armour_set 4291350 60000\nAhrim's_hood 60191 3900\nAhrim's_hood 60191 3900\nAhrim's_hood_0 23303 3900\nAhrim's_hood_0 23303 3900\nAhrim's_robeskirt_0 1929058 14100\nAhrim's_robeskirt_0 1929058 14100\nAhrim's_robeskirt 1966570 14100\nAhrim's_robeskirt 1966570 14100\nAhrim's_robetop 2107454 15000\nAhrim's_robetop 2107454 15000\nAhrim's_robetop_0 2035571 15000\nAhrim's_robetop_0 2035571 15000\nAhrim's_staff 111190 25500\nAhrim's_staff 111190 25500\nAhrim's_staff_0 54192 25500\nAhrim's_staff_0 54192 25500\nAir_battlestaff 9027 4650\nAir_orb 1519 -1\nAir_rune 5 -1\nAir_talisman 108 -1\nAir_tiara 4 -1\nAirtight_pot 792 -1\nAle_of_the_gods 2051202 -1\nAle_yeast 610 -1\nAmethyst 3376 -1\nAmethyst_arrow(p+) 729 -1\nAmethyst_arrow(p) 327 -1\nAmethyst_arrow(p++) 1516 -1\nAmethyst_arrow 186 -1\nAmethyst_arrowtips 220 -1\nAmethyst_bolt_tips 223 -1\nAmethyst_broad_bolts 297 -1\nAmethyst_javelin 531 -1\nAmethyst_javelin(p+) 550 -1\nAmethyst_javelin(p) 553 -1\nAmethyst_javelin(p++) 830 -1\nAmethyst_javelin_heads 684 -1\nAmulet_mould 13 -1\nAmulet_of_accuracy -1 -1\nAmulet_of_avarice 229410 -1\nAmulet_of_bounty -1 -1\nAmulet_of_chemistry -1 -1\nAmulet_of_defence 903 382\nAmulet_of_defence 903 382\nAmulet_of_eternal_glory 20376620 -1\nAmulet_of_fury 2984341 60600\nAmulet_of_fury 2984341 60600\nAmulet_of_glory(4) 12549 5287\nAmulet_of_glory(6) 13870 5287\nAmulet_of_glory 12395 5287\nAmulet_of_glory_(t6) 87396 5287\nAmulet_of_glory_(t6) 87396 5287\nAmulet_of_glory_(t4) -1 10575\nAmulet_of_glory_(t) -1 10575\nAmulet_of_magic 631 270\nAmulet_of_magic 631 270\nAmulet_of_magic_(t) -1 540\nAmulet_of_power 2314 1057\nAmulet_of_power 2314 1057\nAmulet_of_strength 1287 607\nAmulet_of_strength 1287 607\nAmulet_of_the_damned_(full) 137190 17400\nAmulet_of_the_damned_(full) 137190 17400\nAmulet_of_torture 15749759 -1\nAmylase_crystal 1 -1\nAncestral_hat 11479532 -1\nAncestral_robe_bottom 60511487 -1\nAncestral_robe_top 71307229 -1\nAncestral_robes_set 143462847 -1\nAnchovies 49 -1\nAnchovy_pizza 587 -1\nAncient_blessing 10297 -1\nAncient_bracers 15680 1200\nAncient_bracers 15680 1200\nAncient_chaps 205702 1800\nAncient_chaps 205702 1800\nAncient_cloak 37147 600\nAncient_cloak 37147 600\nAncient_coif 67867 600\nAncient_coif 67867 600\nAncient_crozier 7749 1500\nAncient_crozier 7749 1500\nAncient_crystal -1 -1\nAncient_d'hide 362097 3900\nAncient_d'hide 362097 3900\nAncient_d'hide_boots 1025909 -1\n"
     ]
    },
    {
     "ename": "ValueError",
     "evalue": "invalid literal for int() with base 10: 'Drop'",
     "traceback": [
      "\u001b[0;31m---------------------------------------------------------------------------\u001b[0m",
      "\u001b[0;31mValueError\u001b[0m                                Traceback (most recent call last)",
      "\u001b[0;32m<ipython-input-20-292419f4df46>\u001b[0m in \u001b[0;36m<module>\u001b[0;34m()\u001b[0m\n\u001b[1;32m      2\u001b[0m \u001b[0mnatPrice\u001b[0m \u001b[0;34m=\u001b[0m \u001b[0mscraper\u001b[0m\u001b[0;34m.\u001b[0m\u001b[0mgetExchangeInfo\u001b[0m\u001b[0;34m(\u001b[0m\u001b[0;34m'nature_rune'\u001b[0m\u001b[0;34m)\u001b[0m\u001b[0;34m[\u001b[0m\u001b[0;34m'price'\u001b[0m\u001b[0;34m]\u001b[0m\u001b[0;34m\u001b[0m\u001b[0m\n\u001b[1;32m      3\u001b[0m \u001b[0;32mfor\u001b[0m \u001b[0ml\u001b[0m \u001b[0;32min\u001b[0m \u001b[0mlines\u001b[0m\u001b[0;34m:\u001b[0m\u001b[0;34m\u001b[0m\u001b[0m\n\u001b[0;32m----> 4\u001b[0;31m     \u001b[0mprint\u001b[0m\u001b[0;34m(\u001b[0m\u001b[0ml\u001b[0m\u001b[0;34m[\u001b[0m\u001b[0;36m0\u001b[0m\u001b[0;34m]\u001b[0m\u001b[0;34m,\u001b[0m\u001b[0mint\u001b[0m\u001b[0;34m(\u001b[0m\u001b[0ml\u001b[0m\u001b[0;34m[\u001b[0m\u001b[0;36m13\u001b[0m\u001b[0;34m]\u001b[0m\u001b[0;34m)\u001b[0m\u001b[0;34m,\u001b[0m\u001b[0mint\u001b[0m\u001b[0;34m(\u001b[0m\u001b[0ml\u001b[0m\u001b[0;34m[\u001b[0m\u001b[0;36m11\u001b[0m\u001b[0;34m]\u001b[0m\u001b[0;34m)\u001b[0m\u001b[0;34m)\u001b[0m\u001b[0;34m\u001b[0m\u001b[0m\n\u001b[0m\u001b[1;32m      5\u001b[0m     \u001b[0;32mif\u001b[0m \u001b[0mint\u001b[0m\u001b[0;34m(\u001b[0m\u001b[0ml\u001b[0m\u001b[0;34m[\u001b[0m\u001b[0;36m14\u001b[0m\u001b[0;34m]\u001b[0m\u001b[0;34m)\u001b[0m\u001b[0;34m+\u001b[0m\u001b[0mnatPrice\u001b[0m\u001b[0;34m<=\u001b[0m\u001b[0mint\u001b[0m\u001b[0;34m(\u001b[0m\u001b[0ml\u001b[0m\u001b[0;34m[\u001b[0m\u001b[0;36m11\u001b[0m\u001b[0;34m]\u001b[0m\u001b[0;34m)\u001b[0m\u001b[0;34m:\u001b[0m\u001b[0;34m\u001b[0m\u001b[0m\n\u001b[1;32m      6\u001b[0m         \u001b[0mprint\u001b[0m\u001b[0;34m(\u001b[0m\u001b[0ml\u001b[0m\u001b[0;34m[\u001b[0m\u001b[0;36m0\u001b[0m\u001b[0;34m]\u001b[0m\u001b[0;34m,\u001b[0m\u001b[0mint\u001b[0m\u001b[0;34m(\u001b[0m\u001b[0ml\u001b[0m\u001b[0;34m[\u001b[0m\u001b[0;36m13\u001b[0m\u001b[0;34m]\u001b[0m\u001b[0;34m)\u001b[0m\u001b[0;34m,\u001b[0m\u001b[0mint\u001b[0m\u001b[0;34m(\u001b[0m\u001b[0ml\u001b[0m\u001b[0;34m[\u001b[0m\u001b[0;36m11\u001b[0m\u001b[0;34m]\u001b[0m\u001b[0;34m)\u001b[0m\u001b[0;34m)\u001b[0m\u001b[0;34m\u001b[0m\u001b[0m\n",
      "\u001b[0;31mValueError\u001b[0m: invalid literal for int() with base 10: 'Drop'"
     ],
     "output_type": "error"
    }
   ],
   "source": [
    "#col 13 = exchangePrice\n",
    "natPrice = scraper.getExchangeInfo('nature_rune')['price']\n",
    "for l in lines:\n",
    "    print(l[0],int(l[13]),int(l[11]))\n",
    "    if int(l[14])+natPrice<=int(l[11]):\n",
    "        print(l[0],int(l[13]),int(l[11]))"
   ]
  },
  {
   "cell_type": "code",
   "execution_count": null,
   "metadata": {},
   "outputs": [],
   "source": []
  }
 ],
 "metadata": {
  "kernelspec": {
   "display_name": "Python 2",
   "language": "python",
   "name": "python2"
  },
  "language_info": {
   "codemirror_mode": {
    "name": "ipython",
    "version": 2
   },
   "file_extension": ".py",
   "mimetype": "text/x-python",
   "name": "python",
   "nbconvert_exporter": "python",
   "pygments_lexer": "ipython2",
   "version": "2.7.6"
  }
 },
 "nbformat": 4,
 "nbformat_minor": 0
}
