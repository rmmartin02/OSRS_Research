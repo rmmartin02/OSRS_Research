{
 "cells": [
  {
   "cell_type": "code",
   "execution_count": 1,
   "metadata": {},
   "outputs": [],
   "source": [
    "import pickle\n",
    "from pprint import pprint\n",
    "import numpy as np\n",
    "import matplotlib.pyplot as plt"
   ]
  },
  {
   "cell_type": "code",
   "execution_count": 2,
   "metadata": {},
   "outputs": [
    {
     "name": "stdout",
     "output_type": "stream",
     "text": [
      "/home/makoa/School/osrs_research\n",
      "['/usr/lib/python36.zip', '/usr/lib/python3.6', '/usr/lib/python3.6/lib-dynload', '', '/home/makoa/.local/lib/python3.6/site-packages', '/usr/local/lib/python3.6/dist-packages', '/usr/lib/python3/dist-packages', '/home/makoa/.local/lib/python3.6/site-packages/IPython/extensions', '/home/makoa/.ipython', '/home/makoa/School/osrs_research']\n"
     ]
    }
   ],
   "source": [
    "import sys\n",
    "import os\n",
    "address = (os.sep).join(os.getcwd().split(os.sep)[:-3])\n",
    "print(address)\n",
    "sys.path.append(address)\n",
    "print(sys.path)\n",
    "import util.items as items\n",
    "import util.scraper as scraper"
   ]
  },
  {
   "cell_type": "code",
   "execution_count": 3,
   "metadata": {},
   "outputs": [],
   "source": [
    "with open('price.pickle','rb') as f:\n",
    "    results = pickle.load(f)"
   ]
  },
  {
   "cell_type": "code",
   "execution_count": 4,
   "metadata": {},
   "outputs": [
    {
     "data": {
      "text/plain": [
       "2115"
      ]
     },
     "execution_count": 4,
     "metadata": {},
     "output_type": "execute_result"
    }
   ],
   "source": [
    "len(results)"
   ]
  },
  {
   "cell_type": "code",
   "execution_count": 6,
   "metadata": {},
   "outputs": [
    {
     "name": "stdout",
     "output_type": "stream",
     "text": [
      "1064\n"
     ]
    }
   ],
   "source": [
    "itemList = [item for item in results if len(items.getQuants(item))>0 and np.mean(items.getQuants(item)[-7:])>100 and np.median(items.getPrices(item)[-7:])>100]\n",
    "print(len(itemList))\n",
    "for item in list(results.keys()):\n",
    "    if item not in itemList:\n",
    "        results.pop(item)"
   ]
  },
  {
   "cell_type": "code",
   "execution_count": 7,
   "metadata": {},
   "outputs": [
    {
     "data": {
      "text/plain": [
       "dict_keys(['model_opt', 'buyAndHold', 'testPrices', 'momentum_model', 'perfect', 'startLoss', 'sma', 'predictions', 'numPrices', 'sma_model', 'stochOscil', 'momentum', 'numItems', 'item', 'persist', 'numEpochs', 'model', 'endLoss', 'startMAE', 'endMAE', 'opt_params', 'stochOscil_model'])"
      ]
     },
     "execution_count": 7,
     "metadata": {},
     "output_type": "execute_result"
    }
   ],
   "source": [
    "results['Abyssal_whip'].keys()"
   ]
  },
  {
   "cell_type": "code",
   "execution_count": 8,
   "metadata": {},
   "outputs": [],
   "source": [
    "sma = [(item,results[item]['sma']) for item in results]\n",
    "sma = sorted(sma, key=lambda x: x[1], reverse=True)\n",
    "\n",
    "sma_model = [(item,results[item]['sma_model']) for item in results]\n",
    "sma_model = sorted(sma_model, key=lambda x: x[1], reverse=True)"
   ]
  },
  {
   "cell_type": "code",
   "execution_count": 27,
   "metadata": {},
   "outputs": [
    {
     "name": "stdout",
     "output_type": "stream",
     "text": [
      "0.05646042707329408 -0.026782525510204082 0.6335685039421967 16.80952380952381 -0.7594241235736312\n",
      "-0.007275101654784254 -0.05593253146133672 0.6216334721067499 17.432900432900432 -0.7568916172855296\n"
     ]
    }
   ],
   "source": [
    "m = [a[1] for a in sma]\n",
    "print(np.mean(m),np.median(m),np.std(m),max(m),min(m))\n",
    "mm = [a[1] for a in sma_model]\n",
    "print(np.mean(mm),np.median(mm),np.std(mm),max(mm),min(mm))"
   ]
  },
  {
   "cell_type": "code",
   "execution_count": 11,
   "metadata": {},
   "outputs": [
    {
     "data": {
      "image/png": "[encoded data removed]",
      "text/plain": [
       "<Figure size 432x288 with 1 Axes>"
      ]
     },
     "metadata": {
      "needs_background": "light"
     },
     "output_type": "display_data"
    },
    {
     "data": {
      "image/png": "[encoded data removed]",
      "text/plain": [
       "<Figure size 432x288 with 1 Axes>"
      ]
     },
     "metadata": {
      "needs_background": "light"
     },
     "output_type": "display_data"
    },
    {
     "data": {
      "image/png": "[encoded data removed]",
      "text/plain": [
       "<Figure size 432x288 with 1 Axes>"
      ]
     },
     "metadata": {
      "needs_background": "light"
     },
     "output_type": "display_data"
    },
    {
     "data": {
      "image/png": "[encoded data removed]",
      "text/plain": [
       "<Figure size 432x288 with 1 Axes>"
      ]
     },
     "metadata": {
      "needs_background": "light"
     },
     "output_type": "display_data"
    }
   ],
   "source": [
    "plt.hist([a[1] for a in sma])\n",
    "plt.show()\n",
    "plt.hist([a[1] for a in sma_model])\n",
    "plt.show()\n",
    "plt.hist([a[1] for a in sma],20,range=(-2,2))\n",
    "plt.show()\n",
    "plt.hist([a[1] for a in sma_model],20,range=(-2,2))\n",
    "plt.show()"
   ]
  },
  {
   "cell_type": "code",
   "execution_count": 12,
   "metadata": {},
   "outputs": [],
   "source": [
    "numSMA = len([a for a in sma if a[1]>0])\n",
    "numSMA_model = len([a for a in sma_model if a[1]>0])"
   ]
  },
  {
   "cell_type": "code",
   "execution_count": 13,
   "metadata": {},
   "outputs": [
    {
     "name": "stdout",
     "output_type": "stream",
     "text": [
      "1064\n",
      "0.3994360902255639\n",
      "0.2894736842105263\n"
     ]
    }
   ],
   "source": [
    "print(len(results))\n",
    "print(numSMA/len(results))\n",
    "print(numSMA_model/len(results))"
   ]
  },
  {
   "cell_type": "code",
   "execution_count": null,
   "metadata": {},
   "outputs": [],
   "source": []
  },
  {
   "cell_type": "code",
   "execution_count": 14,
   "metadata": {},
   "outputs": [],
   "source": [
    "stochOscil = [(item,results[item]['stochOscil']) for item in results]\n",
    "stochOscil = sorted(stochOscil, key=lambda x: x[1], reverse=True)\n",
    "\n",
    "stochOscil_model = [(item,results[item]['stochOscil_model']) for item in results]\n",
    "stochOscil_model = sorted(stochOscil_model, key=lambda x: x[1], reverse=True)"
   ]
  },
  {
   "cell_type": "code",
   "execution_count": 26,
   "metadata": {},
   "outputs": [
    {
     "name": "stdout",
     "output_type": "stream",
     "text": [
      "0.04769567246506829 -0.01261352523940897 0.5798132113058402 15.60099567099567 -0.8633502637233835\n",
      "-0.012706699429382618 -0.04691254306917364 0.5208850171024155 13.560627705627706 -0.8935026372338347\n"
     ]
    }
   ],
   "source": [
    "m = [a[1] for a in stochOscil]\n",
    "print(np.mean(m),np.median(m),np.std(m),max(m),min(m))\n",
    "mm = [a[1] for a in stochOscil_model]\n",
    "print(np.mean(mm),np.median(mm),np.std(mm),max(mm),min(mm))"
   ]
  },
  {
   "cell_type": "code",
   "execution_count": 17,
   "metadata": {},
   "outputs": [
    {
     "data": {
      "image/png": "[encoded data removed]",
      "text/plain": [
       "<Figure size 432x288 with 1 Axes>"
      ]
     },
     "metadata": {
      "needs_background": "light"
     },
     "output_type": "display_data"
    },
    {
     "data": {
      "image/png": "[encoded data removed]",
      "text/plain": [
       "<Figure size 432x288 with 1 Axes>"
      ]
     },
     "metadata": {
      "needs_background": "light"
     },
     "output_type": "display_data"
    },
    {
     "data": {
      "image/png": "[encoded data removed]",
      "text/plain": [
       "<Figure size 432x288 with 1 Axes>"
      ]
     },
     "metadata": {
      "needs_background": "light"
     },
     "output_type": "display_data"
    },
    {
     "data": {
      "image/png": "[encoded data removed]",
      "text/plain": [
       "<Figure size 432x288 with 1 Axes>"
      ]
     },
     "metadata": {
      "needs_background": "light"
     },
     "output_type": "display_data"
    }
   ],
   "source": [
    "plt.hist([a[1] for a in stochOscil])\n",
    "plt.show()\n",
    "plt.hist([a[1] for a in stochOscil_model])\n",
    "plt.show()\n",
    "plt.hist([a[1] for a in stochOscil],20,range=(-2,2))\n",
    "plt.show()\n",
    "plt.hist([a[1] for a in stochOscil_model],20,range=(-2,2))\n",
    "plt.show()"
   ]
  },
  {
   "cell_type": "code",
   "execution_count": 18,
   "metadata": {},
   "outputs": [],
   "source": [
    "numstochOscil = len([a for a in stochOscil if a[1]>0])\n",
    "numstochOscil_model = len([a for a in stochOscil_model if a[1]>0])"
   ]
  },
  {
   "cell_type": "code",
   "execution_count": 19,
   "metadata": {},
   "outputs": [
    {
     "name": "stdout",
     "output_type": "stream",
     "text": [
      "1064\n",
      "0.43890977443609025\n",
      "0.3148496240601504\n"
     ]
    }
   ],
   "source": [
    "print(len(results))\n",
    "print(numstochOscil/len(results))\n",
    "print(numstochOscil_model/len(results))"
   ]
  },
  {
   "cell_type": "code",
   "execution_count": null,
   "metadata": {},
   "outputs": [],
   "source": []
  },
  {
   "cell_type": "code",
   "execution_count": 20,
   "metadata": {},
   "outputs": [],
   "source": [
    "momentum = [(item,results[item]['momentum']) for item in results]\n",
    "momentum = sorted(momentum, key=lambda x: x[1], reverse=True)\n",
    "\n",
    "momentum_model = [(item,results[item]['momentum_model']) for item in results]\n",
    "momentum_model = sorted(momentum_model, key=lambda x: x[1], reverse=True)"
   ]
  },
  {
   "cell_type": "code",
   "execution_count": 25,
   "metadata": {},
   "outputs": [
    {
     "name": "stdout",
     "output_type": "stream",
     "text": [
      "0.07584374774432354 -0.009455703833994984 0.5996315519433418 15.84034632034632 -0.7638425473725337\n",
      "0.009331649866239928 -0.040513003702113116 0.5855306894000364 15.957604617604616 -0.79935143582731\n"
     ]
    }
   ],
   "source": [
    "m = [a[1] for a in momentum]\n",
    "print(np.mean(m),np.median(m),np.std(m),max(m),min(m))\n",
    "mm = [a[1] for a in momentum_model]\n",
    "print(np.mean(mm),np.median(mm),np.std(mm),max(mm),min(mm))"
   ]
  },
  {
   "cell_type": "code",
   "execution_count": 21,
   "metadata": {},
   "outputs": [
    {
     "data": {
      "image/png": "[encoded data removed]",
      "text/plain": [
       "<Figure size 432x288 with 1 Axes>"
      ]
     },
     "metadata": {
      "needs_background": "light"
     },
     "output_type": "display_data"
    },
    {
     "data": {
      "image/png": "[encoded data removed]",
      "text/plain": [
       "<Figure size 432x288 with 1 Axes>"
      ]
     },
     "metadata": {
      "needs_background": "light"
     },
     "output_type": "display_data"
    },
    {
     "data": {
      "image/png": "[encoded data removed]",
      "text/plain": [
       "<Figure size 432x288 with 1 Axes>"
      ]
     },
     "metadata": {
      "needs_background": "light"
     },
     "output_type": "display_data"
    },
    {
     "data": {
      "image/png": "[encoded data removed]",
      "text/plain": [
       "<Figure size 432x288 with 1 Axes>"
      ]
     },
     "metadata": {
      "needs_background": "light"
     },
     "output_type": "display_data"
    }
   ],
   "source": [
    "plt.hist([a[1] for a in momentum])\n",
    "plt.show()\n",
    "plt.hist([a[1] for a in momentum_model])\n",
    "plt.show()\n",
    "plt.hist([a[1] for a in momentum],20,range=(-2,2))\n",
    "plt.show()\n",
    "plt.hist([a[1] for a in momentum_model],20,range=(-2,2))\n",
    "plt.show()"
   ]
  },
  {
   "cell_type": "code",
   "execution_count": 22,
   "metadata": {},
   "outputs": [],
   "source": [
    "nummomentum = len([a for a in momentum if a[1]>0])\n",
    "nummomentum_model = len([a for a in momentum_model if a[1]>0])"
   ]
  },
  {
   "cell_type": "code",
   "execution_count": 23,
   "metadata": {},
   "outputs": [
    {
     "name": "stdout",
     "output_type": "stream",
     "text": [
      "1064\n",
      "0.45394736842105265\n",
      "0.35150375939849626\n"
     ]
    }
   ],
   "source": [
    "print(len(results))\n",
    "print(nummomentum/len(results))\n",
    "print(nummomentum_model/len(results))"
   ]
  },
  {
   "cell_type": "code",
   "execution_count": null,
   "metadata": {},
   "outputs": [],
   "source": []
  },
  {
   "cell_type": "code",
   "execution_count": 18,
   "metadata": {},
   "outputs": [],
   "source": [
    "prices = [items.getPrices(item)[-1] for item in results]\n",
    "buylimits = [int(items.getInfo(item)['buyLimit']) for item in results]\n",
    "profs = [results[item]['sma'] for item in results]\n",
    "pers = [results[item]['persist'] for item in results]\n",
    "perf = [results[item]['perfect'] for item in results]\n",
    "bah = [results[item]['buyAndHold'] for item in results]\n",
    "mae = [results[item]['endMAE'] for item in results]\n",
    "prof_perf_diff = [abs(results[item]['perfect'] - results[item]['model']) for item in results]"
   ]
  },
  {
   "cell_type": "code",
   "execution_count": 19,
   "metadata": {},
   "outputs": [
    {
     "name": "stdout",
     "output_type": "stream",
     "text": [
      "price,profs -0.014934481683761058\n",
      "bl,price -0.05144175220748756\n",
      "prof,pers 0.47587307924154965\n",
      "profs,perf -0.05498265011497731\n",
      "profs,bah 0.6237613281138139\n",
      "profdiff,mae 0.05915224955947585\n",
      "prices,mae -0.007226992000329215\n",
      "profs,mae -0.20196197099505825\n",
      "profdiff,mae 0.05915224955947585\n"
     ]
    }
   ],
   "source": [
    "print('price,profs',np.corrcoef(prices,profs)[0][1])\n",
    "print('bl,price',np.corrcoef(buylimits,prices)[0][1])\n",
    "print('prof,pers',np.corrcoef(profs,pers)[0][1])\n",
    "print('profs,perf',np.corrcoef(profs,perf)[0][1])\n",
    "print('profs,bah',np.corrcoef(profs,bah)[0][1])\n",
    "print('profdiff,mae',np.corrcoef(prof_perf_diff,mae)[0][1])\n",
    "print('prices,mae',np.corrcoef(prices,mae)[0][1])\n",
    "print('profs,mae',np.corrcoef(profs,mae)[0][1])\n",
    "print('profdiff,mae',np.corrcoef(prof_perf_diff,mae)[0][1])"
   ]
  },
  {
   "cell_type": "code",
   "execution_count": 20,
   "metadata": {},
   "outputs": [],
   "source": [
    "prices = [items.getPrices(item)[-1] for item in results]\n",
    "buylimits = [int(items.getInfo(item)['buyLimit']) for item in results]\n",
    "profs = [results[item]['sma_model'] for item in results]\n",
    "pers = [results[item]['persist'] for item in results]\n",
    "perf = [results[item]['perfect'] for item in results]\n",
    "bah = [results[item]['buyAndHold'] for item in results]\n",
    "mae = [results[item]['endMAE'] for item in results]\n",
    "prof_perf_diff = [abs(results[item]['perfect'] - results[item]['model']) for item in results]"
   ]
  },
  {
   "cell_type": "code",
   "execution_count": 21,
   "metadata": {},
   "outputs": [
    {
     "name": "stdout",
     "output_type": "stream",
     "text": [
      "price,profs -0.008783465227588003\n",
      "bl,price -0.05144175220748756\n",
      "prof,pers 0.4141202539756858\n",
      "profs,perf -0.037826043961764075\n",
      "profs,bah 0.6035232503673789\n",
      "profdiff,mae 0.05915224955947585\n",
      "prices,mae -0.007226992000329215\n",
      "profs,mae -0.1831468812431142\n",
      "profdiff,mae 0.05915224955947585\n"
     ]
    }
   ],
   "source": [
    "print('price,profs',np.corrcoef(prices,profs)[0][1])\n",
    "print('bl,price',np.corrcoef(buylimits,prices)[0][1])\n",
    "print('prof,pers',np.corrcoef(profs,pers)[0][1])\n",
    "print('profs,perf',np.corrcoef(profs,perf)[0][1])\n",
    "print('profs,bah',np.corrcoef(profs,bah)[0][1])\n",
    "print('profdiff,mae',np.corrcoef(prof_perf_diff,mae)[0][1])\n",
    "print('prices,mae',np.corrcoef(prices,mae)[0][1])\n",
    "print('profs,mae',np.corrcoef(profs,mae)[0][1])\n",
    "print('profdiff,mae',np.corrcoef(prof_perf_diff,mae)[0][1])"
   ]
  },
  {
   "cell_type": "code",
   "execution_count": null,
   "metadata": {},
   "outputs": [],
   "source": []
  },
  {
   "cell_type": "code",
   "execution_count": 22,
   "metadata": {},
   "outputs": [],
   "source": [
    "prices = [items.getPrices(item)[-1] for item in results]\n",
    "buylimits = [int(items.getInfo(item)['buyLimit']) for item in results]\n",
    "profs = [results[item]['stochOscil'] for item in results]\n",
    "pers = [results[item]['persist'] for item in results]\n",
    "perf = [results[item]['perfect'] for item in results]\n",
    "bah = [results[item]['buyAndHold'] for item in results]\n",
    "mae = [results[item]['endMAE'] for item in results]\n",
    "prof_perf_diff = [abs(results[item]['perfect'] - results[item]['model']) for item in results]"
   ]
  },
  {
   "cell_type": "code",
   "execution_count": 23,
   "metadata": {},
   "outputs": [
    {
     "name": "stdout",
     "output_type": "stream",
     "text": [
      "price,profs -0.004253726075931554\n",
      "bl,price -0.05144175220748756\n",
      "prof,pers 0.3215644585190623\n",
      "profs,perf -0.021005981111603306\n",
      "profs,bah 0.5270249527111416\n",
      "profdiff,mae 0.05915224955947585\n",
      "prices,mae -0.007226992000329215\n",
      "profs,mae -0.13347610042911615\n",
      "profdiff,mae 0.05915224955947585\n"
     ]
    }
   ],
   "source": [
    "print('price,profs',np.corrcoef(prices,profs)[0][1])\n",
    "print('bl,price',np.corrcoef(buylimits,prices)[0][1])\n",
    "print('prof,pers',np.corrcoef(profs,pers)[0][1])\n",
    "print('profs,perf',np.corrcoef(profs,perf)[0][1])\n",
    "print('profs,bah',np.corrcoef(profs,bah)[0][1])\n",
    "print('profdiff,mae',np.corrcoef(prof_perf_diff,mae)[0][1])\n",
    "print('prices,mae',np.corrcoef(prices,mae)[0][1])\n",
    "print('profs,mae',np.corrcoef(profs,mae)[0][1])\n",
    "print('profdiff,mae',np.corrcoef(prof_perf_diff,mae)[0][1])"
   ]
  },
  {
   "cell_type": "code",
   "execution_count": 24,
   "metadata": {},
   "outputs": [],
   "source": [
    "prices = [items.getPrices(item)[-1] for item in results]\n",
    "buylimits = [int(items.getInfo(item)['buyLimit']) for item in results]\n",
    "profs = [results[item]['stochOscil_model'] for item in results]\n",
    "pers = [results[item]['persist'] for item in results]\n",
    "perf = [results[item]['perfect'] for item in results]\n",
    "bah = [results[item]['buyAndHold'] for item in results]\n",
    "mae = [results[item]['endMAE'] for item in results]\n",
    "prof_perf_diff = [abs(results[item]['perfect'] - results[item]['model']) for item in results]"
   ]
  },
  {
   "cell_type": "code",
   "execution_count": 25,
   "metadata": {},
   "outputs": [
    {
     "name": "stdout",
     "output_type": "stream",
     "text": [
      "price,profs -0.003568646506356578\n",
      "bl,price -0.05144175220748756\n",
      "prof,pers 0.2668045636793476\n",
      "profs,perf 0.02007940565081238\n",
      "profs,bah 0.6746931048915382\n",
      "profdiff,mae 0.05915224955947585\n",
      "prices,mae -0.007226992000329215\n",
      "profs,mae -0.09946470874317608\n",
      "profdiff,mae 0.05915224955947585\n"
     ]
    }
   ],
   "source": [
    "print('price,profs',np.corrcoef(prices,profs)[0][1])\n",
    "print('bl,price',np.corrcoef(buylimits,prices)[0][1])\n",
    "print('prof,pers',np.corrcoef(profs,pers)[0][1])\n",
    "print('profs,perf',np.corrcoef(profs,perf)[0][1])\n",
    "print('profs,bah',np.corrcoef(profs,bah)[0][1])\n",
    "print('profdiff,mae',np.corrcoef(prof_perf_diff,mae)[0][1])\n",
    "print('prices,mae',np.corrcoef(prices,mae)[0][1])\n",
    "print('profs,mae',np.corrcoef(profs,mae)[0][1])\n",
    "print('profdiff,mae',np.corrcoef(prof_perf_diff,mae)[0][1])"
   ]
  },
  {
   "cell_type": "code",
   "execution_count": null,
   "metadata": {},
   "outputs": [],
   "source": []
  }
 ],
 "metadata": {
  "kernelspec": {
   "display_name": "Python 3",
   "language": "python",
   "name": "python3"
  },
  "language_info": {
   "codemirror_mode": {
    "name": "ipython",
    "version": 3
   },
   "file_extension": ".py",
   "mimetype": "text/x-python",
   "name": "python",
   "nbconvert_exporter": "python",
   "pygments_lexer": "ipython3",
   "version": "3.6.7"
  }
 },
 "nbformat": 4,
 "nbformat_minor": 2
}
