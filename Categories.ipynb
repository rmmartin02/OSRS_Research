{
 "cells": [
  {
   "cell_type": "code",
   "execution_count": 1,
   "metadata": {},
   "outputs": [],
   "source": [
    "import ast\n",
    "import networkx as nx\n",
    "import matplotlib.pyplot as plt"
   ]
  },
  {
   "cell_type": "code",
   "execution_count": 2,
   "metadata": {},
   "outputs": [
    {
     "ename": "FileNotFoundError",
     "evalue": "[Errno 2] No such file or directory: 'itemsInfo.tsv'",
     "traceback": [
      "\u001b[0;31m---------------------------------------------------------------------------\u001b[0m",
      "\u001b[0;31mFileNotFoundError\u001b[0m                         Traceback (most recent call last)",
      "\u001b[0;32m<ipython-input-2-67cbb8eec6df>\u001b[0m in \u001b[0;36m<module>\u001b[0;34m()\u001b[0m\n\u001b[0;32m----> 1\u001b[0;31m \u001b[0;32mwith\u001b[0m \u001b[0mopen\u001b[0m\u001b[0;34m(\u001b[0m\u001b[0;34m'itemsInfo.tsv'\u001b[0m\u001b[0;34m,\u001b[0m\u001b[0;34m'r'\u001b[0m\u001b[0;34m)\u001b[0m \u001b[0;32mas\u001b[0m \u001b[0mf\u001b[0m\u001b[0;34m:\u001b[0m\u001b[0;34m\u001b[0m\u001b[0m\n\u001b[0m\u001b[1;32m      2\u001b[0m     \u001b[0mlines\u001b[0m \u001b[0;34m=\u001b[0m \u001b[0mf\u001b[0m\u001b[0;34m.\u001b[0m\u001b[0mreadlines\u001b[0m\u001b[0;34m(\u001b[0m\u001b[0;34m)\u001b[0m\u001b[0;34m\u001b[0m\u001b[0m\n\u001b[1;32m      3\u001b[0m \u001b[0mcats\u001b[0m \u001b[0;34m=\u001b[0m \u001b[0;34m[\u001b[0m\u001b[0;34m]\u001b[0m\u001b[0;34m\u001b[0m\u001b[0m\n\u001b[1;32m      4\u001b[0m \u001b[0;32mfor\u001b[0m \u001b[0mc\u001b[0m \u001b[0;32min\u001b[0m \u001b[0mlines\u001b[0m\u001b[0;34m:\u001b[0m\u001b[0;34m\u001b[0m\u001b[0m\n\u001b[1;32m      5\u001b[0m     \u001b[0ma\u001b[0m \u001b[0;34m=\u001b[0m \u001b[0mc\u001b[0m\u001b[0;34m.\u001b[0m\u001b[0msplit\u001b[0m\u001b[0;34m(\u001b[0m\u001b[0;34m'\\t'\u001b[0m\u001b[0;34m)\u001b[0m\u001b[0;34m[\u001b[0m\u001b[0;34m-\u001b[0m\u001b[0;36m1\u001b[0m\u001b[0;34m]\u001b[0m\u001b[0;34m.\u001b[0m\u001b[0mrstrip\u001b[0m\u001b[0;34m(\u001b[0m\u001b[0;34m)\u001b[0m\u001b[0;34m.\u001b[0m\u001b[0mreplace\u001b[0m\u001b[0;34m(\u001b[0m\u001b[0;34m'['\u001b[0m\u001b[0;34m,\u001b[0m\u001b[0;34m''\u001b[0m\u001b[0;34m)\u001b[0m\u001b[0;34m.\u001b[0m\u001b[0mreplace\u001b[0m\u001b[0;34m(\u001b[0m\u001b[0;34m']'\u001b[0m\u001b[0;34m,\u001b[0m\u001b[0;34m''\u001b[0m\u001b[0;34m)\u001b[0m\u001b[0;34m\u001b[0m\u001b[0m\n",
      "\u001b[0;31mFileNotFoundError\u001b[0m: [Errno 2] No such file or directory: 'itemsInfo.tsv'"
     ],
     "output_type": "error"
    }
   ],
   "source": [
    "with open('itemsInfo.tsv','r') as f:\n",
    "    lines = f.readlines()\n",
    "cats = []\n",
    "for c in lines:\n",
    "    a = c.split('\\t')[-1].rstrip().replace('[','').replace(']','')\n",
    "    try:\n",
    "        cats.append(list(ast.literal_eval(a)))\n",
    "    except:\n",
    "        pass\n",
    "#print(cats)"
   ]
  },
  {
   "cell_type": "code",
   "execution_count": 11,
   "metadata": {},
   "outputs": [
    {
     "name": "stdout",
     "output_type": "stream",
     "text": [
      "['Items', 'Grand Exchange items', 'Tradeable items', \"Members' items\", 'Equipment', 'Neck slot items', '3rd age equipment', 'Treasure Trails rewards', 'Amulets', 'Magic armour', 'Equipable items', 'Weapon slot items', 'Axes', 'Old School-exclusive content', 'Two-handed slot items', 'Ranged weapons', 'Cape slot items', 'Prayer items', 'Head slot items', 'Helmets', 'Melee armour', 'Shield slot items', 'Kiteshields', 'Slash weapons', 'Mining', 'Pickaxes', 'Body slot items', 'Platebodies', 'Leg slot items', 'Platelegs', 'Ranged armour', 'Hand slot items', 'Magic weapons', 'Emote enhancers', 'Crush weapons', 'Melee weapons', 'Weapons with Special attacks', 'Non-GE items', 'Bracelets', 'Diamond', 'Pages that contain switch infobox data', 'Stab weapons', 'Daggers', 'Slayer', 'Items needed for an emote clue', 'Logs', 'Woodcutting', 'Fletching', 'Big Chompy Bird Hunting', 'Stackable items', 'Farming', 'Seeds', 'Free-to-play items', 'Adamant', 'Ammunition slot items', 'Ammunition', 'Bolts', 'Feet slot items', 'Boots', 'Chainbodies', 'Crossbows', 'Item sets', 'Untradeable items', 'Armour', 'Throwing knives', 'Maces', 'Tools', 'Plateskirts', 'Scimitars', 'Spears', 'Square shields', 'Smithing', 'Metals', 'Construction', 'Ores', 'Pies', 'Clothes', 'Herblore', 'Potions', 'Barbarian mixes', 'Barrows', 'Runes', 'Nightmare Zone', 'Runecraft', 'Rune Mysteries', 'Tiaras', 'Quest items', 'One Small Favour', 'Warm clothing', 'Gems', 'Crafting items', 'Imp Catcher', 'Revenant Caves', 'Opal', 'Jade', 'Emerald', 'Dragonstone', 'Onyx', 'Quest Hall', \"Shades of Mort'ton (minigame)\", 'Zenyte', 'Chambers of Xeric', 'Fish', 'Food', 'Pizza', 'Rune', 'Another Slice of H.A.M.', 'God books', 'Desert Treasure', 'Magic tablets', 'Dragon Slayer', 'Cooking', 'Saplings', 'Fremennik armour', 'Fremennik', 'Ring slot items', 'Currency', 'Ranging Guild', 'Ranged', 'The Fremennik Isles', 'Mage Training Arena', 'Texts & Tomes', 'Fletching items', 'Drinks', 'Flatpacks', 'Produce', 'Herblore items', 'Lunar Diplomacy', 'Herbs', 'Unfinished potions', 'Theatre of Blood', 'Monsters that drop clues', 'Impetuous Impulses', 'Bones', \"Icthlarin's Little Helper\", 'Formal Garden', 'Garden', 'Sheep Shearer', 'Fruit', 'Monkey Madness I', 'Fishing equipment', 'Bronze', 'Splitbark Armour', 'Regicide', \"Mourning's Ends Part I\", 'Making Friends with My Arm', 'Storage items', 'Gnome cooking', 'Vampire Slayer', 'The Fremennik Trials', 'Necklace', 'Needs ID', 'Needs drop rarity added', 'Hunter items', 'Black', 'Capes', 'Gloves', 'Shadow of the Storm', 'Halberds', 'Stubs', 'Hunter', 'Birds', 'Holiday items', 'Needs image', 'Red topaz', 'Keys', \"Olaf's Quest\", 'Tai Bwo Wannai Cleanup', 'Containers', \"Cook's Assistant\", 'The Eyes of Glouphrie', 'Troll Romance', \"Merlin's Crystal\", 'Light sources', 'Wintertodt', 'Herblore secondaries', 'Romeo & Juliet', 'Fossil Island', 'Dwarf Cannon', \"Pirate's Treasure\", 'Dorgeshuun Cuisine', 'Needs examine added', 'Darkness of Hallowvale', 'Recipe for Disaster', 'Death Plateau', 'Zogre Flesh Eaters', 'Garden of Tranquillity', 'Tai Bwo Wannai Trio', \"Legends' Quest\", 'Unobtainable items', 'Items that cannot be alchemised', 'Roving Elves', 'The Dig Site', 'Fishing', \"Mourning's Ends Part II\", 'Hunter gear', \"Gertrude's Cat\", 'Orikalkum', 'Prayer', 'Needs weight added', 'Grim Tales', 'Elemental Workshop II', 'Elemental Workshop I', 'Shields', 'Mithril', 'The Feud', 'Feldip Hills', 'Ernest the Chicken', \"Shades of Mort'ton\", 'Pages with broken file links', 'In Aid of the Myreque', 'Thieving', 'Goblin Diplomacy', 'Gold', 'Pyramid Plunder', 'Minigame items', 'Gnome Restaurant', 'Transportation', 'Granite equipment', 'Halloween 2013', 'Articles in need of cleanup', 'Making History', 'H.A.M.', 'The Lost Tribe', 'Death to the Dorgeshuun', 'Silver', 'Recruitment Drive', 'Ruby', 'Catherby', 'Iron', 'Firemaking', 'Lunar Isle', 'Magic', 'Planks', \"Ancient Warriors' equipment\", 'Nature Spirit', \"Mort'ton\", \"Mos Le'Harmless\", 'Nardah', 'Obsidian equipment', 'Ammunition components', 'Pearl', 'Sea Slug', 'Prince Ali Rescue', 'Piscatoris', 'Hazeel Cult', 'Animal Magnetism', 'Biohazard', 'References that need verification', 'Druidic Ritual', \"Enakhra's Lament\", 'Random events', 'Music', 'Items with negative weight', 'Steel', 'Tai Bwo Wannai', 'Pets', 'Agility', 'Tower of Life', 'Pages using duplicate arguments in template calls', 'Yanille', 'White Knight equipment', 'The Great Brain Robbery', 'Hunter creatures', 'Underground Pass']\n"
     ]
    }
   ],
   "source": [
    "catNames = []\n",
    "count = 0\n",
    "for l in cats:\n",
    "    count+=1\n",
    "    #print(count,len(cats))\n",
    "    for d in cats:\n",
    "        for c in d:\n",
    "            if c not in catNames:\n",
    "                catNames.append(c)\n",
    "\n",
    "print(catNames)"
   ]
  },
  {
   "cell_type": "code",
   "execution_count": 13,
   "metadata": {},
   "outputs": [],
   "source": [
    "itemCounts = {}\n",
    "for c in catNames:\n",
    "    itemCounts[c] = 0"
   ]
  },
  {
   "cell_type": "code",
   "execution_count": 13,
   "metadata": {},
   "outputs": [],
   "source": [
    "edgeCounts = []\n",
    "for c in catNames:\n",
    "    edgeCounts.append([0]*len(catNames))"
   ]
  },
  {
   "cell_type": "code",
   "execution_count": 14,
   "metadata": {},
   "outputs": [],
   "source": [
    "for l in cats:\n",
    "    for i in range(len(l)):\n",
    "        itemCounts[l[i]] += 1\n",
    "        for j in range(i,len(l)):\n",
    "            row = catNames.index(l[i])\n",
    "            col = catNames.index(l[j])\n",
    "            edgeCounts[row][col] += 1"
   ]
  },
  {
   "cell_type": "code",
   "execution_count": 16,
   "metadata": {
    "collapsed": true
   },
   "outputs": [
    {
     "name": "stdout",
     "output_type": "stream",
     "text": [
      "{'Items': 3493, 'Grand Exchange items': 3492, 'Tradeable items': 3492, \"Members' items\": 2765, 'Equipment': 1770, 'Neck slot items': 78, '3rd age equipment': 18, 'Treasure Trails rewards': 382, 'Amulets': 44, 'Magic armour': 86, 'Equipable items': 1779, 'Weapon slot items': 364, 'Axes': 9, 'Old School-exclusive content': 440, 'Two-handed slot items': 124, 'Ranged weapons': 142, 'Cape slot items': 85, 'Prayer items': 107, 'Head slot items': 284, 'Helmets': 75, 'Melee armour': 253, 'Shield slot items': 100, 'Kiteshields': 22, 'Slash weapons': 74, 'Mining': 37, 'Pickaxes': 9, 'Body slot items': 197, 'Platebodies': 21, 'Leg slot items': 210, 'Platelegs': 33, 'Ranged armour': 113, 'Hand slot items': 75, 'Magic weapons': 63, 'Emote enhancers': 4, 'Crush weapons': 43, 'Melee weapons': 231, 'Weapons with Special attacks': 53, 'Non-GE items': 234, 'Bracelets': 24, 'Diamond': 14, 'Pages that contain switch infobox data': 682, 'Stab weapons': 125, 'Daggers': 36, 'Slayer': 4, 'Items needed for an emote clue': 236, 'Logs': 23, 'Woodcutting': 23, 'Fletching': 99, 'Big Chompy Bird Hunting': 10, 'Stackable items': 493, 'Farming': 149, 'Seeds': 67, 'Free-to-play items': 780, 'Adamant': 89, 'Ammunition slot items': 160, 'Ammunition': 146, 'Bolts': 98, 'Feet slot items': 67, 'Boots': 38, 'Chainbodies': 10, 'Crossbows': 36, 'Item sets': 91, 'Untradeable items': 145, 'Armour': 49, 'Throwing knives': 28, 'Maces': 9, 'Tools': 56, 'Plateskirts': 33, 'Scimitars': 7, 'Spears': 37, 'Square shields': 11, 'Smithing': 10, 'Metals': 1, 'Construction': 126, 'Ores': 16, 'Pies': 45, 'Clothes': 23, 'Herblore': 240, 'Potions': 240, 'Barbarian mixes': 56, 'Barrows': 55, 'Runes': 21, 'Nightmare Zone': 24, 'Runecraft': 26, 'Rune Mysteries': 1, 'Tiaras': 2, 'Quest items': 80, 'One Small Favour': 10, 'Warm clothing': 42, 'Gems': 24, 'Crafting items': 42, 'Imp Catcher': 5, 'Revenant Caves': 14, 'Opal': 17, 'Jade': 15, 'Emerald': 16, 'Dragonstone': 24, 'Onyx': 16, 'Quest Hall': 3, \"Shades of Mort'ton (minigame)\": 31, 'Zenyte': 12, 'Chambers of Xeric': 13, 'Fish': 49, 'Food': 78, 'Pizza': 4, 'Rune': 142, 'Another Slice of H.A.M.': 1, 'God books': 30, 'Desert Treasure': 4, 'Magic tablets': 35, 'Dragon Slayer': 1, 'Cooking': 59, 'Saplings': 18, 'Fremennik armour': 45, 'Fremennik': 1, 'Ring slot items': 32, 'Currency': 3, 'Ranging Guild': 3, 'Ranged': 1, 'The Fremennik Isles': 9, 'Mage Training Arena': 2, 'Texts & Tomes': 8, 'Fletching items': 17, 'Drinks': 52, 'Flatpacks': 82, 'Produce': 47, 'Herblore items': 13, 'Lunar Diplomacy': 1, 'Herbs': 30, 'Unfinished potions': 15, 'Theatre of Blood': 16, 'Monsters that drop clues': 10, 'Impetuous Impulses': 11, 'Bones': 21, \"Icthlarin's Little Helper\": 4, 'Formal Garden': 12, 'Garden': 10, 'Sheep Shearer': 3, 'Fruit': 4, 'Monkey Madness I': 3, 'Fishing equipment': 10, 'Bronze': 83, 'Splitbark Armour': 7, 'Regicide': 4, \"Mourning's Ends Part I\": 1, 'Making Friends with My Arm': 3, 'Storage items': 2, 'Gnome cooking': 71, 'Vampire Slayer': 3, 'The Fremennik Trials': 1, 'Necklace': 24, 'Needs ID': 33, 'Needs drop rarity added': 2, 'Hunter items': 11, 'Black': 65, 'Capes': 68, 'Gloves': 12, 'Shadow of the Storm': 2, 'Halberds': 1, 'Stubs': 9, 'Hunter': 23, 'Birds': 2, 'Holiday items': 15, 'Needs image': 5, 'Red topaz': 16, 'Keys': 7, \"Olaf's Quest\": 1, 'Tai Bwo Wannai Cleanup': 24, 'Containers': 4, \"Cook's Assistant\": 3, 'The Eyes of Glouphrie': 1, 'Troll Romance': 2, \"Merlin's Crystal\": 3, 'Light sources': 13, 'Wintertodt': 2, 'Herblore secondaries': 4, 'Romeo & Juliet': 1, 'Fossil Island': 7, 'Dwarf Cannon': 5, \"Pirate's Treasure\": 1, 'Dorgeshuun Cuisine': 3, 'Needs examine added': 2, 'Darkness of Hallowvale': 6, 'Recipe for Disaster': 15, 'Death Plateau': 2, 'Zogre Flesh Eaters': 10, 'Garden of Tranquillity': 4, 'Tai Bwo Wannai Trio': 5, \"Legends' Quest\": 3, 'Unobtainable items': 2, 'Items that cannot be alchemised': 9, 'Roving Elves': 2, 'The Dig Site': 3, 'Fishing': 2, \"Mourning's Ends Part II\": 1, 'Hunter gear': 18, \"Gertrude's Cat\": 2, 'Orikalkum': 63, 'Prayer': 3, 'Needs weight added': 2, 'Grim Tales': 2, 'Elemental Workshop II': 3, 'Elemental Workshop I': 1, 'Shields': 6, 'Mithril': 79, 'The Feud': 5, 'Feldip Hills': 1, 'Ernest the Chicken': 2, \"Shades of Mort'ton\": 15, 'Pages with broken file links': 16, 'In Aid of the Myreque': 6, 'Thieving': 1, 'Goblin Diplomacy': 1, 'Gold': 2, 'Pyramid Plunder': 11, 'Minigame items': 8, 'Gnome Restaurant': 1, 'Transportation': 1, 'Granite equipment': 11, 'Halloween 2013': 3, 'Articles in need of cleanup': 1, 'Making History': 3, 'H.A.M.': 7, 'The Lost Tribe': 7, 'Death to the Dorgeshuun': 7, 'Silver': 14, 'Recruitment Drive': 3, 'Ruby': 13, 'Catherby': 1, 'Iron': 81, 'Firemaking': 7, 'Lunar Isle': 1, 'Magic': 4, 'Planks': 4, \"Ancient Warriors' equipment\": 6, 'Nature Spirit': 5, \"Mort'ton\": 1, \"Mos Le'Harmless\": 1, 'Nardah': 1, 'Obsidian equipment': 12, 'Ammunition components': 1, 'Pearl': 7, 'Sea Slug': 1, 'Prince Ali Rescue': 2, 'Piscatoris': 1, 'Hazeel Cult': 1, 'Animal Magnetism': 1, 'Biohazard': 2, 'References that need verification': 2, 'Druidic Ritual': 4, \"Enakhra's Lament\": 4, 'Random events': 2, 'Music': 1, 'Items with negative weight': 2, 'Steel': 77, 'Tai Bwo Wannai': 1, 'Pets': 1, 'Agility': 2, 'Tower of Life': 1, 'Pages using duplicate arguments in template calls': 1, 'Yanille': 1, 'White Knight equipment': 24, 'The Great Brain Robbery': 1, 'Hunter creatures': 1, 'Underground Pass': 2}\n"
     ]
    }
   ],
   "source": [
    "print(itemCounts)\n",
    "#for e in edgeCounts:\n",
    "    #print(e)"
   ]
  },
  {
   "cell_type": "code",
   "execution_count": 18,
   "metadata": {},
   "outputs": [],
   "source": [
    "temp = []\n",
    "for c in catNames:\n",
    "    temp.append([0]*len(catNames))\n",
    "for i in range(len(edgeCounts)-1):\n",
    "    for j in range(i+1,len(edgeCounts[i])):\n",
    "        temp[i][j] = edgeCounts[i][j] + edgeCounts[j][i]\n",
    "edgeCounts = temp"
   ]
  },
  {
   "cell_type": "code",
   "execution_count": 74,
   "metadata": {},
   "outputs": [],
   "source": [
    "G = nx.Graph()\n",
    "for n in catNames:\n",
    "    G.add_node(n,amount=itemCounts[n])\n",
    "for i in range(len(edgeCounts)-1):\n",
    "    for j in range(i+1,len(edgeCounts[i])):\n",
    "        if edgeCounts[i][j]!=0:\n",
    "            G.add_edge(catNames[i],catNames[j],weight=edgeCounts[i][j])"
   ]
  },
  {
   "cell_type": "code",
   "execution_count": 79,
   "metadata": {},
   "outputs": [
    {
     "name": "stdout",
     "output_type": "stream",
     "text": [
      "{'amount': 3493}\nItems 3493\nGrand Exchange items 3492\nTradeable items 3492\nMembers' items 2765\nEquipment 1770\nNeck slot items 78\n3rd age equipment 18\nTreasure Trails rewards 382\nAmulets 44\nMagic armour 86\nEquipable items 1779\nWeapon slot items 364\nAxes 9\nOld School-exclusive content 440\nTwo-handed slot items 124\nRanged weapons 142\nCape slot items 85\nPrayer items 107\nHead slot items 284\nHelmets 75\nMelee armour 253\nShield slot items 100\nKiteshields 22\nSlash weapons 74\nMining 37\nPickaxes 9\nBody slot items 197\nPlatebodies 21\nLeg slot items 210\nPlatelegs 33\nRanged armour 113\nHand slot items 75\nMagic weapons 63\nEmote enhancers 4\nCrush weapons 43\nMelee weapons 231\nWeapons with Special attacks 53\nNon-GE items 234\nBracelets 24\nDiamond 14\nPages that contain switch infobox data 682\nStab weapons 125\nDaggers 36\nSlayer 4\nItems needed for an emote clue 236\nLogs 23\nWoodcutting 23\nFletching 99\nBig Chompy Bird Hunting 10\nStackable items 493\nFarming 149\nSeeds 67\nFree-to-play items 780\nAdamant 89\nAmmunition slot items 160\nAmmunition 146\nBolts 98\nFeet slot items 67\nBoots 38\nChainbodies 10\nCrossbows 36\nItem sets 91\nUntradeable items 145\nArmour 49\nThrowing knives 28\nMaces 9\nTools 56\nPlateskirts 33\nScimitars 7\nSpears 37\nSquare shields 11\nSmithing 10\nMetals 1\nConstruction 126\nOres 16\nPies 45\nClothes 23\nHerblore 240\nPotions 240\nBarbarian mixes 56\nBarrows 55\nRunes 21\nNightmare Zone 24\nRunecraft 26\nRune Mysteries 1\nTiaras 2\nQuest items 80\nOne Small Favour 10\nWarm clothing 42\nGems 24\nCrafting items 42\nImp Catcher 5\nRevenant Caves 14\nOpal 17\nJade 15\nEmerald 16\nDragonstone 24\nOnyx 16\nQuest Hall 3\nShades of Mort'ton (minigame) 31\nZenyte 12\nChambers of Xeric 13\nFish 49\nFood 78\nPizza 4\nRune 142\nAnother Slice of H.A.M. 1\nGod books 30\nDesert Treasure 4\nMagic tablets 35\nDragon Slayer 1\nCooking 59\nSaplings 18\nFremennik armour 45\nFremennik 1\nRing slot items 32\nCurrency 3\nRanging Guild 3\nRanged 1\nThe Fremennik Isles 9\nMage Training Arena 2\nTexts & Tomes 8\nFletching items 17\nDrinks 52\nFlatpacks 82\nProduce 47\nHerblore items 13\nLunar Diplomacy 1\nHerbs 30\nUnfinished potions 15\nTheatre of Blood 16\nMonsters that drop clues 10\nImpetuous Impulses 11\nBones 21\nIcthlarin's Little Helper 4\nFormal Garden 12\nGarden 10\nSheep Shearer 3\nFruit 4\nMonkey Madness I 3\nFishing equipment 10\nBronze 83\nSplitbark Armour 7\nRegicide 4\nMourning's Ends Part I 1\nMaking Friends with My Arm 3\nStorage items 2\nGnome cooking 71\nVampire Slayer 3\nThe Fremennik Trials 1\nNecklace 24\nNeeds ID 33\nNeeds drop rarity added 2\nHunter items 11\nBlack 65\nCapes 68\nGloves 12\nShadow of the Storm 2\nHalberds 1\nStubs 9\nHunter 23\nBirds 2\nHoliday items 15\nNeeds image 5\nRed topaz 16\nKeys 7\nOlaf's Quest 1\nTai Bwo Wannai Cleanup 24\nContainers 4\nCook's Assistant 3\nThe Eyes of Glouphrie 1\nTroll Romance 2\nMerlin's Crystal 3\nLight sources 13\nWintertodt 2\nHerblore secondaries 4\nRomeo & Juliet 1\nFossil Island 7\nDwarf Cannon 5\nPirate's Treasure 1\nDorgeshuun Cuisine 3\nNeeds examine added 2\nDarkness of Hallowvale 6\nRecipe for Disaster 15\nDeath Plateau 2\nZogre Flesh Eaters 10\nGarden of Tranquillity 4\nTai Bwo Wannai Trio 5\nLegends' Quest 3\nUnobtainable items 2\nItems that cannot be alchemised 9\nRoving Elves 2\nThe Dig Site 3\nFishing 2\nMourning's Ends Part II 1\nHunter gear 18\nGertrude's Cat 2\nOrikalkum 63\nPrayer 3\nNeeds weight added 2\nGrim Tales 2\nElemental Workshop II 3\nElemental Workshop I 1\nShields 6\nMithril 79\nThe Feud 5\nFeldip Hills 1\nErnest the Chicken 2\nShades of Mort'ton 15\nPages with broken file links 16\nIn Aid of the Myreque 6\nThieving 1\nGoblin Diplomacy 1\nGold 2\nPyramid Plunder 11\nMinigame items 8\nGnome Restaurant 1\nTransportation 1\nGranite equipment 11\nHalloween 2013 3\nArticles in need of cleanup 1\nMaking History 3\nH.A.M. 7\nThe Lost Tribe 7\nDeath to the Dorgeshuun 7\nSilver 14\nRecruitment Drive 3\nRuby 13\nCatherby 1\nIron 81\nFiremaking 7\nLunar Isle 1\nMagic 4\nPlanks 4\nAncient Warriors' equipment 6\nNature Spirit 5\nMort'ton 1\nMos Le'Harmless 1\nNardah 1\nObsidian equipment 12\nAmmunition components 1\nPearl 7\nSea Slug 1\nPrince Ali Rescue 2\nPiscatoris 1\nHazeel Cult 1\nAnimal Magnetism 1\nBiohazard 2\nReferences that need verification 2\nDruidic Ritual 4\nEnakhra's Lament 4\nRandom events 2\nMusic 1\nItems with negative weight 2\nSteel 77\nTai Bwo Wannai 1\nPets 1\nAgility 2\nTower of Life 1\nPages using duplicate arguments in template calls 1\nYanille 1\nWhite Knight equipment 24\nThe Great Brain Robbery 1\nHunter creatures 1\nUnderground Pass 2\n"
     ]
    }
   ],
   "source": [
    "print(G.nodes['Items'])\n",
    "for n in G.nodes:\n",
    "    print(n,G.nodes[n]['amount'])"
   ]
  },
  {
   "cell_type": "code",
   "execution_count": 43,
   "metadata": {},
   "outputs": [],
   "source": [
    "import plotly.plotly as py\n",
    "import plotly.graph_objs as go\n",
    "\n",
    "pos=nx.spring_layout(G,k=0.15,iterations=20)\n",
    "nx.set_node_attributes(G, pos, 'pos')\n",
    "dmin=1\n",
    "ncenter=0\n",
    "for n in pos:\n",
    "    x,y=pos[n]\n",
    "    d=(x-0.5)**2+(y-0.5)**2\n",
    "    if d<dmin:\n",
    "        ncenter=n\n",
    "        dmin=d\n",
    "\n",
    "p=nx.single_source_shortest_path_length(G,ncenter)"
   ]
  },
  {
   "cell_type": "code",
   "execution_count": 44,
   "metadata": {},
   "outputs": [],
   "source": [
    "edge_trace = go.Scatter(\n",
    "    x=[],\n",
    "    y=[],\n",
    "    line=dict(width=0.5,color='#888'),\n",
    "    hoverinfo='none',\n",
    "    mode='lines')\n",
    "\n",
    "for edge in G.edges():\n",
    "    x0, y0 = G.node[edge[0]]['pos']\n",
    "    x1, y1 = G.node[edge[1]]['pos']\n",
    "    edge_trace['x'] += tuple([x0, x1, None])\n",
    "    edge_trace['y'] += tuple([y0, y1, None])\n",
    "\n",
    "node_trace = go.Scatter(\n",
    "    x=[],\n",
    "    y=[],\n",
    "    text=[],\n",
    "    mode='markers',\n",
    "    hoverinfo='text',\n",
    "    marker=dict(\n",
    "        showscale=True,\n",
    "        # colorscale options\n",
    "        #'Greys' | 'YlGnBu' | 'Greens' | 'YlOrRd' | 'Bluered' | 'RdBu' |\n",
    "        #'Reds' | 'Blues' | 'Picnic' | 'Rainbow' | 'Portland' | 'Jet' |\n",
    "        #'Hot' | 'Blackbody' | 'Earth' | 'Electric' | 'Viridis' |\n",
    "        colorscale='YlGnBu',\n",
    "        reversescale=True,\n",
    "        color=[],\n",
    "        size=10,\n",
    "        colorbar=dict(\n",
    "            thickness=15,\n",
    "            title='Node Connections',\n",
    "            xanchor='left',\n",
    "            titleside='right'\n",
    "        ),\n",
    "        line=dict(width=2)))\n",
    "\n",
    "for node in G.nodes():\n",
    "    x, y = G.node[node]['pos']\n",
    "    node_trace['x'] += tuple([x])\n",
    "    node_trace['y'] += tuple([y])"
   ]
  },
  {
   "cell_type": "code",
   "execution_count": 82,
   "metadata": {},
   "outputs": [],
   "source": [
    "for node, adjacencies in enumerate(G.adjacency()):\n",
    "    node_trace['marker']['color']+=tuple([len(adjacencies[1])])\n",
    "    node_info = '# of connections: {}'.format(str(len(adjacencies[1])))\n",
    "    node_trace['text']+=tuple([node_info])"
   ]
  },
  {
   "cell_type": "code",
   "execution_count": 83,
   "metadata": {},
   "outputs": [
    {
     "name": "stdout",
     "output_type": "stream",
     "text": [
      "High five! You successfully sent some data to your account on plotly. View your plot in your browser at https://plot.ly/~rmmartin/0 or inside your plot.ly account where it is named 'networkx'\n"
     ]
    },
    {
     "data": {
      "text/html": [
       "<iframe id=\"igraph\" scrolling=\"no\" style=\"border:none;\" seamless=\"seamless\" src=\"https://plot.ly/~rmmartin/0.embed\" height=\"525px\" width=\"100%\"></iframe>"
      ],
      "text/plain": [
       "<iframe id=\"igraph\" scrolling=\"no\" style=\"border:none;\" seamless=\"seamless\" src=\"https://plot.ly/~rmmartin/0.embed\" height=\"525px\" width=\"100%\"></iframe>"
      ]
     },
     "execution_count": 83,
     "metadata": {},
     "output_type": "execute_result"
    }
   ],
   "source": [
    "fig = go.Figure(data=[edge_trace, node_trace],\n",
    "             layout=go.Layout(\n",
    "                title='<br>Network graph made with Python',\n",
    "                titlefont=dict(size=16),\n",
    "                showlegend=False,\n",
    "                hovermode='closest',\n",
    "                margin=dict(b=20,l=5,r=5,t=40),\n",
    "                annotations=[ dict(\n",
    "                    text=\"Python code: <a href='https://plot.ly/ipython-notebooks/network-graphs/'> https://plot.ly/ipython-notebooks/network-graphs/</a>\",\n",
    "                    showarrow=False,\n",
    "                    xref=\"paper\", yref=\"paper\",\n",
    "                    x=0.005, y=-0.002 ) ],\n",
    "                xaxis=dict(showgrid=False, zeroline=False, showticklabels=False),\n",
    "                yaxis=dict(showgrid=False, zeroline=False, showticklabels=False)))\n",
    "\n",
    "py.iplot(fig, filename='networkx')"
   ]
  },
  {
   "cell_type": "code",
   "execution_count": null,
   "metadata": {},
   "outputs": [],
   "source": []
  }
 ],
 "metadata": {
  "kernelspec": {
   "display_name": "Python 3",
   "language": "python",
   "name": "python3"
  },
  "language_info": {
   "codemirror_mode": {
    "name": "ipython",
    "version": 3
   },
   "file_extension": ".py",
   "mimetype": "text/x-python",
   "name": "python",
   "nbconvert_exporter": "python",
   "pygments_lexer": "ipython3",
   "version": "3.6.7"
  }
 },
 "nbformat": 4,
 "nbformat_minor": 1
}
