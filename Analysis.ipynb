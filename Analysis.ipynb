{
 "cells": [
  {
   "cell_type": "code",
   "execution_count": 36,
   "metadata": {
    "collapsed": false
   },
   "outputs": [],
   "source": [
    "import matplotlib.pyplot as py\n",
    "import scraper\n",
    "import pickle"
   ]
  },
  {
   "cell_type": "code",
   "execution_count": 37,
   "metadata": {},
   "outputs": [],
   "source": [
    "def priceChanges(prices):\n",
    "    absChange = [0]*(len(prices)-1)\n",
    "    percChange = [0]*(len(prices)-1)\n",
    "    for i in range(0,len(prices)-1):\n",
    "        absChange[i] = prices[i+1]-prices[i]\n",
    "        percChange[i] = absChange[i]/prices[i]\n",
    "    return absChange,percChange\n",
    "\n",
    "def marginChanges(prices,buylimit):\n",
    "    absChange = [0]*(len(prices)-1)\n",
    "    percChange = [0]*(len(prices)-1)\n",
    "    for i in range(0,len(prices)-1):\n",
    "        absChange[i] = prices[i+1]*buylimit-prices[i]*buylimit\n",
    "        percChange[i] = absChange[i]/(prices[i]*buylimit)\n",
    "    return absChange,percChange"
   ]
  },
  {
   "cell_type": "code",
   "execution_count": 38,
   "metadata": {},
   "outputs": [],
   "source": [
    "with open('itemInfo.pickle','rb') as f:\n",
    "    itemInfo = pickle.load(f)"
   ]
  },
  {
   "cell_type": "code",
   "execution_count": 39,
   "metadata": {},
   "outputs": [
    {
     "name": "stdout",
     "output_type": "stream",
     "text": [
      "[['    itemId     ', ' 561,'], ['    price      ', ' 258,'], ['    last       ', ' 253,'], ['    date       ', \" '21 January 2019 00:00:00 (UTC)',\"], ['    lastDate   ', \" '20 January 2019 00:00:00 (UTC)',\"], ['    volume     ', ' 318.9,'], ['    volumeDate ', \" '21 January 2019 00:00:00 (UTC)',\"], ['    icon       ', \" 'Nature rune.png',\"], ['    item       ', \" 'Nature rune',\"], ['    value      ', ' 180,'], ['    limit      ', ' 12000,'], ['    members    ', ' false,'], ['    category   ', ' nil,'], ['    examine    ', \" 'Used for alchemy spells.'\"]]\n{'price': 258, 'value': 180, 'limit': 12000, 'hialch': -1, 'lowalch': -1, 'examine': 'Used for alchemy spells'}\n1.1277533039647578\n{'name': 'Redwood_shield', 'image': '/w/File:Redwood_shield.png', 'released': '1 February 2018', 'update': '/w/Update:Leather_Shields_and_Tournament_Worlds', 'members': 'True', 'quest': 'No', 'tradeable': 'True', 'equipable': 'True', 'stackable': 'False', 'edible': 'False', 'noteable': 'True', 'destroy': 'Drop', 'storeprice': 'N/A', 'storeCurrency': 'N/A', 'seller': 'N/A', 'alchable': 'True', 'highAlch': '768', 'lowAlch': '512', 'exchangePrice': '423', 'buyLimit': '125', 'weight': '3.1', 'examine': 'A solid redwood shield'}\n"
     ]
    }
   ],
   "source": [
    "#col 13 = exchangePrice\n",
    "natPrice = scraperV2.getExchangeInfo('Nature_rune')['price']\n",
    "alchItems = []\n",
    "profits = []\n",
    "for item in itemInfo:\n",
    "    try:\n",
    "        #print(int(item['exchangePrice'])+natPrice,int(item['highAlch']))\n",
    "        exPrice = int(item['exchangePrice'])\n",
    "        alchPrice = int(item['highAlch'])\n",
    "        if exPrice!=-1 and exPrice+natPrice < alchPrice:\n",
    "            #print(item)\n",
    "            alchItems.append(item)\n",
    "            profits.append((alchPrice/(exPrice+natPrice)))\n",
    "    except ValueError:\n",
    "        pass\n",
    "print(max(profits))\n",
    "print(alchItems[profits.index(max(profits))])"
   ]
  },
  {
   "cell_type": "code",
   "execution_count": null,
   "metadata": {},
   "outputs": [],
   "source": []
  },
  {
   "cell_type": "code",
   "execution_count": null,
   "metadata": {},
   "outputs": [],
   "source": []
  }
 ],
 "metadata": {
  "kernelspec": {
   "display_name": "Python 2",
   "language": "python",
   "name": "python2"
  },
  "language_info": {
   "codemirror_mode": {
    "name": "ipython",
    "version": 2
   },
   "file_extension": ".py",
   "mimetype": "text/x-python",
   "name": "python",
   "nbconvert_exporter": "python",
   "pygments_lexer": "ipython2",
   "version": "2.7.6"
  }
 },
 "nbformat": 4,
 "nbformat_minor": 0
}
