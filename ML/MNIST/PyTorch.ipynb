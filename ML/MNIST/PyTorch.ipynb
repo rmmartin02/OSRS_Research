{
 "cells": [
  {
   "cell_type": "code",
   "execution_count": 1,
   "metadata": {},
   "outputs": [],
   "source": [
    "import matplotlib.pyplot as plt\n",
    "import numpy as np\n",
    "\n",
    "import torch\n",
    "import torch.nn as nn\n",
    "import torchvision\n",
    "import torchvision.transforms as transforms"
   ]
  },
  {
   "cell_type": "code",
   "execution_count": 22,
   "metadata": {},
   "outputs": [],
   "source": [
    "# https://www.python-course.eu/neural_network_mnist.php\n",
    "with open('MNIST/mnist_train.csv','r') as f:\n",
    "    lines = f.readlines()\n",
    "train_labels = torch.tensor([int(a.split(',')[0]) for a in lines]).long()\n",
    "train_images = torch.tensor([list(map(int,a.split(',')[1:])) for a in lines]).float()\n",
    "\n",
    "with open('MNIST/mnist_test.csv','r') as f:\n",
    "    lines = f.readlines()\n",
    "test_labels = torch.tensor([int(a.split(',')[0]) for a in lines]).long()\n",
    "test_images = torch.tensor([list(map(int,a.split(',')[1:])) for a in lines]).float()"
   ]
  },
  {
   "cell_type": "code",
   "execution_count": 23,
   "metadata": {},
   "outputs": [
    {
     "name": "stdout",
     "output_type": "stream",
     "text": [
      "60000 60000 784\n",
      "10000 10000 784\n"
     ]
    }
   ],
   "source": [
    "print(len(train_labels),len(train_images),len(train_images[0]))\n",
    "print(len(test_labels),len(test_images),len(test_images[0]))"
   ]
  },
  {
   "cell_type": "code",
   "execution_count": 24,
   "metadata": {},
   "outputs": [
    {
     "name": "stdout",
     "output_type": "stream",
     "text": [
      "tensor([  0.,   0.,   0.,   0.,   0.,   0.,   0.,   0.,   0.,   0.,   0.,   0.,\n",
      "          0.,   0.,   0.,   0.,   0.,   0.,   0.,   0.,   0.,   0.,   0.,   0.,\n",
      "          0.,   0.,   0.,   0.,   0.,   0.,   0.,   0.,   0.,   0.,   0.,   0.,\n",
      "          0.,   0.,   0.,   0.,   0.,   0.,   0.,   0.,   0.,   0.,   0.,   0.,\n",
      "          0.,   0.,   0.,   0.,   0.,   0.,   0.,   0.,   0.,   0.,   0.,   0.,\n",
      "          0.,   0.,   0.,   0.,   0.,   0.,   0.,   0.,   0.,   0.,   0.,   0.,\n",
      "          0.,   0.,   0.,   0.,   0.,   0.,   0.,   0.,   0.,   0.,   0.,   0.,\n",
      "          0.,   0.,   0.,   0.,   0.,   0.,   0.,   0.,   0.,   0.,   0.,   0.,\n",
      "          0.,   0.,   0.,   0.,   0.,   0.,   0.,   0.,   0.,   0.,   0.,   0.,\n",
      "          0.,   0.,   0.,   0.,   0.,   0.,   0.,   0.,   0.,   0.,   0.,   0.,\n",
      "          0.,   0.,   0.,   0.,   0.,   0.,   0.,   0.,   0.,   0.,   0.,   0.,\n",
      "          0.,   0.,   0.,   0.,   0.,   0.,   0.,   0.,   0.,   0.,   0.,   0.,\n",
      "          0.,   0.,   0.,   0.,   0.,   0.,   0.,   0.,   3.,  18.,  18.,  18.,\n",
      "        126., 136., 175.,  26., 166., 255., 247., 127.,   0.,   0.,   0.,   0.,\n",
      "          0.,   0.,   0.,   0.,   0.,   0.,   0.,   0.,  30.,  36.,  94., 154.,\n",
      "        170., 253., 253., 253., 253., 253., 225., 172., 253., 242., 195.,  64.,\n",
      "          0.,   0.,   0.,   0.,   0.,   0.,   0.,   0.,   0.,   0.,   0.,  49.,\n",
      "        238., 253., 253., 253., 253., 253., 253., 253., 253., 251.,  93.,  82.,\n",
      "         82.,  56.,  39.,   0.,   0.,   0.,   0.,   0.,   0.,   0.,   0.,   0.,\n",
      "          0.,   0.,   0.,  18., 219., 253., 253., 253., 253., 253., 198., 182.,\n",
      "        247., 241.,   0.,   0.,   0.,   0.,   0.,   0.,   0.,   0.,   0.,   0.,\n",
      "          0.,   0.,   0.,   0.,   0.,   0.,   0.,   0.,  80., 156., 107., 253.,\n",
      "        253., 205.,  11.,   0.,  43., 154.,   0.,   0.,   0.,   0.,   0.,   0.,\n",
      "          0.,   0.,   0.,   0.,   0.,   0.,   0.,   0.,   0.,   0.,   0.,   0.,\n",
      "          0.,  14.,   1., 154., 253.,  90.,   0.,   0.,   0.,   0.,   0.,   0.,\n",
      "          0.,   0.,   0.,   0.,   0.,   0.,   0.,   0.,   0.,   0.,   0.,   0.,\n",
      "          0.,   0.,   0.,   0.,   0.,   0.,   0., 139., 253., 190.,   2.,   0.,\n",
      "          0.,   0.,   0.,   0.,   0.,   0.,   0.,   0.,   0.,   0.,   0.,   0.,\n",
      "          0.,   0.,   0.,   0.,   0.,   0.,   0.,   0.,   0.,   0.,   0.,  11.,\n",
      "        190., 253.,  70.,   0.,   0.,   0.,   0.,   0.,   0.,   0.,   0.,   0.,\n",
      "          0.,   0.,   0.,   0.,   0.,   0.,   0.,   0.,   0.,   0.,   0.,   0.,\n",
      "          0.,   0.,   0.,   0.,  35., 241., 225., 160., 108.,   1.,   0.,   0.,\n",
      "          0.,   0.,   0.,   0.,   0.,   0.,   0.,   0.,   0.,   0.,   0.,   0.,\n",
      "          0.,   0.,   0.,   0.,   0.,   0.,   0.,   0.,   0.,  81., 240., 253.,\n",
      "        253., 119.,  25.,   0.,   0.,   0.,   0.,   0.,   0.,   0.,   0.,   0.,\n",
      "          0.,   0.,   0.,   0.,   0.,   0.,   0.,   0.,   0.,   0.,   0.,   0.,\n",
      "          0.,   0.,  45., 186., 253., 253., 150.,  27.,   0.,   0.,   0.,   0.,\n",
      "          0.,   0.,   0.,   0.,   0.,   0.,   0.,   0.,   0.,   0.,   0.,   0.,\n",
      "          0.,   0.,   0.,   0.,   0.,   0.,   0.,  16.,  93., 252., 253., 187.,\n",
      "          0.,   0.,   0.,   0.,   0.,   0.,   0.,   0.,   0.,   0.,   0.,   0.,\n",
      "          0.,   0.,   0.,   0.,   0.,   0.,   0.,   0.,   0.,   0.,   0.,   0.,\n",
      "          0., 249., 253., 249.,  64.,   0.,   0.,   0.,   0.,   0.,   0.,   0.,\n",
      "          0.,   0.,   0.,   0.,   0.,   0.,   0.,   0.,   0.,   0.,   0.,   0.,\n",
      "          0.,   0.,  46., 130., 183., 253., 253., 207.,   2.,   0.,   0.,   0.,\n",
      "          0.,   0.,   0.,   0.,   0.,   0.,   0.,   0.,   0.,   0.,   0.,   0.,\n",
      "          0.,   0.,   0.,   0.,  39., 148., 229., 253., 253., 253., 250., 182.,\n",
      "          0.,   0.,   0.,   0.,   0.,   0.,   0.,   0.,   0.,   0.,   0.,   0.,\n",
      "          0.,   0.,   0.,   0.,   0.,   0.,  24., 114., 221., 253., 253., 253.,\n",
      "        253., 201.,  78.,   0.,   0.,   0.,   0.,   0.,   0.,   0.,   0.,   0.,\n",
      "          0.,   0.,   0.,   0.,   0.,   0.,   0.,   0.,  23.,  66., 213., 253.,\n",
      "        253., 253., 253., 198.,  81.,   2.,   0.,   0.,   0.,   0.,   0.,   0.,\n",
      "          0.,   0.,   0.,   0.,   0.,   0.,   0.,   0.,   0.,   0.,  18., 171.,\n",
      "        219., 253., 253., 253., 253., 195.,  80.,   9.,   0.,   0.,   0.,   0.,\n",
      "          0.,   0.,   0.,   0.,   0.,   0.,   0.,   0.,   0.,   0.,   0.,   0.,\n",
      "         55., 172., 226., 253., 253., 253., 253., 244., 133.,  11.,   0.,   0.,\n",
      "          0.,   0.,   0.,   0.,   0.,   0.,   0.,   0.,   0.,   0.,   0.,   0.,\n",
      "          0.,   0.,   0.,   0., 136., 253., 253., 253., 212., 135., 132.,  16.,\n",
      "          0.,   0.,   0.,   0.,   0.,   0.,   0.,   0.,   0.,   0.,   0.,   0.,\n",
      "          0.,   0.,   0.,   0.,   0.,   0.,   0.,   0.,   0.,   0.,   0.,   0.,\n",
      "          0.,   0.,   0.,   0.,   0.,   0.,   0.,   0.,   0.,   0.,   0.,   0.,\n",
      "          0.,   0.,   0.,   0.,   0.,   0.,   0.,   0.,   0.,   0.,   0.,   0.,\n",
      "          0.,   0.,   0.,   0.,   0.,   0.,   0.,   0.,   0.,   0.,   0.,   0.,\n",
      "          0.,   0.,   0.,   0.,   0.,   0.,   0.,   0.,   0.,   0.,   0.,   0.,\n",
      "          0.,   0.,   0.,   0.,   0.,   0.,   0.,   0.,   0.,   0.,   0.,   0.,\n",
      "          0.,   0.,   0.,   0.,   0.,   0.,   0.,   0.,   0.,   0.,   0.,   0.,\n",
      "          0.,   0.,   0.,   0.])\n"
     ]
    },
    {
     "data": {
      "image/png": "[encoded data removed]",
      "text/plain": [
       "<Figure size 432x288 with 1 Axes>"
      ]
     },
     "metadata": {
      "needs_background": "light"
     },
     "output_type": "display_data"
    }
   ],
   "source": [
    "print(train_images[0])\n",
    "plt.imshow(train_images[0].reshape(28,28))\n",
    "plt.title(str(train_labels[0]))\n",
    "plt.show()"
   ]
  },
  {
   "cell_type": "code",
   "execution_count": 25,
   "metadata": {},
   "outputs": [
    {
     "data": {
      "text/plain": [
       "tensor([[3.9216e-05, 3.9216e-05, 3.9216e-05,  ..., 3.9216e-05, 3.9216e-05,\n",
       "         3.9216e-05],\n",
       "        [3.9216e-05, 3.9216e-05, 3.9216e-05,  ..., 3.9216e-05, 3.9216e-05,\n",
       "         3.9216e-05],\n",
       "        [3.9216e-05, 3.9216e-05, 3.9216e-05,  ..., 3.9216e-05, 3.9216e-05,\n",
       "         3.9216e-05],\n",
       "        ...,\n",
       "        [3.9216e-05, 3.9216e-05, 3.9216e-05,  ..., 3.9216e-05, 3.9216e-05,\n",
       "         3.9216e-05],\n",
       "        [3.9216e-05, 3.9216e-05, 3.9216e-05,  ..., 3.9216e-05, 3.9216e-05,\n",
       "         3.9216e-05],\n",
       "        [3.9216e-05, 3.9216e-05, 3.9216e-05,  ..., 3.9216e-05, 3.9216e-05,\n",
       "         3.9216e-05]])"
      ]
     },
     "execution_count": 25,
     "metadata": {},
     "output_type": "execute_result"
    }
   ],
   "source": [
    "torch.tensor((train_images.numpy()+.01)/255.0)"
   ]
  },
  {
   "cell_type": "code",
   "execution_count": 26,
   "metadata": {},
   "outputs": [],
   "source": [
    "train_images = torch.tensor((train_images.numpy()+.01)/255.0)\n",
    "test_images = torch.tensor((test_images.numpy()+.01)/255.0)"
   ]
  },
  {
   "cell_type": "code",
   "execution_count": 27,
   "metadata": {},
   "outputs": [
    {
     "name": "stdout",
     "output_type": "stream",
     "text": [
      "tensor([3.9216e-05, 3.9216e-05, 3.9216e-05, 3.9216e-05, 3.9216e-05, 3.9216e-05,\n",
      "        3.9216e-05, 3.9216e-05, 3.9216e-05, 3.9216e-05, 3.9216e-05, 3.9216e-05,\n",
      "        3.9216e-05, 3.9216e-05, 3.9216e-05, 3.9216e-05, 3.9216e-05, 3.9216e-05,\n",
      "        3.9216e-05, 3.9216e-05, 3.9216e-05, 3.9216e-05, 3.9216e-05, 3.9216e-05,\n",
      "        3.9216e-05, 3.9216e-05, 3.9216e-05, 3.9216e-05, 3.9216e-05, 3.9216e-05,\n",
      "        3.9216e-05, 3.9216e-05, 3.9216e-05, 3.9216e-05, 3.9216e-05, 3.9216e-05,\n",
      "        3.9216e-05, 3.9216e-05, 3.9216e-05, 3.9216e-05, 3.9216e-05, 3.9216e-05,\n",
      "        3.9216e-05, 3.9216e-05, 3.9216e-05, 3.9216e-05, 3.9216e-05, 3.9216e-05,\n",
      "        3.9216e-05, 3.9216e-05, 3.9216e-05, 3.9216e-05, 3.9216e-05, 3.9216e-05,\n",
      "        3.9216e-05, 3.9216e-05, 3.9216e-05, 3.9216e-05, 3.9216e-05, 3.9216e-05,\n",
      "        3.9216e-05, 3.9216e-05, 3.9216e-05, 3.9216e-05, 3.9216e-05, 3.9216e-05,\n",
      "        3.9216e-05, 3.9216e-05, 3.9216e-05, 3.9216e-05, 3.9216e-05, 3.9216e-05,\n",
      "        3.9216e-05, 3.9216e-05, 3.9216e-05, 3.9216e-05, 3.9216e-05, 3.9216e-05,\n",
      "        3.9216e-05, 3.9216e-05, 3.9216e-05, 3.9216e-05, 3.9216e-05, 3.9216e-05,\n",
      "        3.9216e-05, 3.9216e-05, 3.9216e-05, 3.9216e-05, 3.9216e-05, 3.9216e-05,\n",
      "        3.9216e-05, 3.9216e-05, 3.9216e-05, 3.9216e-05, 3.9216e-05, 3.9216e-05,\n",
      "        3.9216e-05, 3.9216e-05, 3.9216e-05, 3.9216e-05, 3.9216e-05, 3.9216e-05,\n",
      "        3.9216e-05, 3.9216e-05, 3.9216e-05, 3.9216e-05, 3.9216e-05, 3.9216e-05,\n",
      "        3.9216e-05, 3.9216e-05, 3.9216e-05, 3.9216e-05, 3.9216e-05, 3.9216e-05,\n",
      "        3.9216e-05, 3.9216e-05, 3.9216e-05, 3.9216e-05, 3.9216e-05, 3.9216e-05,\n",
      "        3.9216e-05, 3.9216e-05, 3.9216e-05, 3.9216e-05, 3.9216e-05, 3.9216e-05,\n",
      "        3.9216e-05, 3.9216e-05, 3.9216e-05, 3.9216e-05, 3.9216e-05, 3.9216e-05,\n",
      "        3.9216e-05, 3.9216e-05, 3.9216e-05, 3.9216e-05, 3.9216e-05, 3.9216e-05,\n",
      "        3.9216e-05, 3.9216e-05, 3.9216e-05, 3.9216e-05, 3.9216e-05, 3.9216e-05,\n",
      "        3.9216e-05, 3.9216e-05, 3.9216e-05, 3.9216e-05, 3.9216e-05, 3.9216e-05,\n",
      "        3.9216e-05, 3.9216e-05, 1.1804e-02, 7.0627e-02, 7.0627e-02, 7.0627e-02,\n",
      "        4.9416e-01, 5.3337e-01, 6.8631e-01, 1.0200e-01, 6.5102e-01, 1.0000e+00,\n",
      "        9.6867e-01, 4.9808e-01, 3.9216e-05, 3.9216e-05, 3.9216e-05, 3.9216e-05,\n",
      "        3.9216e-05, 3.9216e-05, 3.9216e-05, 3.9216e-05, 3.9216e-05, 3.9216e-05,\n",
      "        3.9216e-05, 3.9216e-05, 1.1769e-01, 1.4122e-01, 3.6867e-01, 6.0396e-01,\n",
      "        6.6671e-01, 9.9220e-01, 9.9220e-01, 9.9220e-01, 9.9220e-01, 9.9220e-01,\n",
      "        8.8239e-01, 6.7455e-01, 9.9220e-01, 9.4906e-01, 7.6475e-01, 2.5102e-01,\n",
      "        3.9216e-05, 3.9216e-05, 3.9216e-05, 3.9216e-05, 3.9216e-05, 3.9216e-05,\n",
      "        3.9216e-05, 3.9216e-05, 3.9216e-05, 3.9216e-05, 3.9216e-05, 1.9220e-01,\n",
      "        9.3337e-01, 9.9220e-01, 9.9220e-01, 9.9220e-01, 9.9220e-01, 9.9220e-01,\n",
      "        9.9220e-01, 9.9220e-01, 9.9220e-01, 9.8435e-01, 3.6475e-01, 3.2161e-01,\n",
      "        3.2161e-01, 2.1965e-01, 1.5298e-01, 3.9216e-05, 3.9216e-05, 3.9216e-05,\n",
      "        3.9216e-05, 3.9216e-05, 3.9216e-05, 3.9216e-05, 3.9216e-05, 3.9216e-05,\n",
      "        3.9216e-05, 3.9216e-05, 3.9216e-05, 7.0627e-02, 8.5886e-01, 9.9220e-01,\n",
      "        9.9220e-01, 9.9220e-01, 9.9220e-01, 9.9220e-01, 7.7651e-01, 7.1376e-01,\n",
      "        9.6867e-01, 9.4514e-01, 3.9216e-05, 3.9216e-05, 3.9216e-05, 3.9216e-05,\n",
      "        3.9216e-05, 3.9216e-05, 3.9216e-05, 3.9216e-05, 3.9216e-05, 3.9216e-05,\n",
      "        3.9216e-05, 3.9216e-05, 3.9216e-05, 3.9216e-05, 3.9216e-05, 3.9216e-05,\n",
      "        3.9216e-05, 3.9216e-05, 3.1376e-01, 6.1180e-01, 4.1965e-01, 9.9220e-01,\n",
      "        9.9220e-01, 8.0396e-01, 4.3176e-02, 3.9216e-05, 1.6867e-01, 6.0396e-01,\n",
      "        3.9216e-05, 3.9216e-05, 3.9216e-05, 3.9216e-05, 3.9216e-05, 3.9216e-05,\n",
      "        3.9216e-05, 3.9216e-05, 3.9216e-05, 3.9216e-05, 3.9216e-05, 3.9216e-05,\n",
      "        3.9216e-05, 3.9216e-05, 3.9216e-05, 3.9216e-05, 3.9216e-05, 3.9216e-05,\n",
      "        3.9216e-05, 5.4941e-02, 3.9608e-03, 6.0396e-01, 9.9220e-01, 3.5298e-01,\n",
      "        3.9216e-05, 3.9216e-05, 3.9216e-05, 3.9216e-05, 3.9216e-05, 3.9216e-05,\n",
      "        3.9216e-05, 3.9216e-05, 3.9216e-05, 3.9216e-05, 3.9216e-05, 3.9216e-05,\n",
      "        3.9216e-05, 3.9216e-05, 3.9216e-05, 3.9216e-05, 3.9216e-05, 3.9216e-05,\n",
      "        3.9216e-05, 3.9216e-05, 3.9216e-05, 3.9216e-05, 3.9216e-05, 3.9216e-05,\n",
      "        3.9216e-05, 5.4514e-01, 9.9220e-01, 7.4514e-01, 7.8824e-03, 3.9216e-05,\n",
      "        3.9216e-05, 3.9216e-05, 3.9216e-05, 3.9216e-05, 3.9216e-05, 3.9216e-05,\n",
      "        3.9216e-05, 3.9216e-05, 3.9216e-05, 3.9216e-05, 3.9216e-05, 3.9216e-05,\n",
      "        3.9216e-05, 3.9216e-05, 3.9216e-05, 3.9216e-05, 3.9216e-05, 3.9216e-05,\n",
      "        3.9216e-05, 3.9216e-05, 3.9216e-05, 3.9216e-05, 3.9216e-05, 4.3176e-02,\n",
      "        7.4514e-01, 9.9220e-01, 2.7455e-01, 3.9216e-05, 3.9216e-05, 3.9216e-05,\n",
      "        3.9216e-05, 3.9216e-05, 3.9216e-05, 3.9216e-05, 3.9216e-05, 3.9216e-05,\n",
      "        3.9216e-05, 3.9216e-05, 3.9216e-05, 3.9216e-05, 3.9216e-05, 3.9216e-05,\n",
      "        3.9216e-05, 3.9216e-05, 3.9216e-05, 3.9216e-05, 3.9216e-05, 3.9216e-05,\n",
      "        3.9216e-05, 3.9216e-05, 3.9216e-05, 3.9216e-05, 1.3729e-01, 9.4514e-01,\n",
      "        8.8239e-01, 6.2749e-01, 4.2357e-01, 3.9608e-03, 3.9216e-05, 3.9216e-05,\n",
      "        3.9216e-05, 3.9216e-05, 3.9216e-05, 3.9216e-05, 3.9216e-05, 3.9216e-05,\n",
      "        3.9216e-05, 3.9216e-05, 3.9216e-05, 3.9216e-05, 3.9216e-05, 3.9216e-05,\n",
      "        3.9216e-05, 3.9216e-05, 3.9216e-05, 3.9216e-05, 3.9216e-05, 3.9216e-05,\n",
      "        3.9216e-05, 3.9216e-05, 3.9216e-05, 3.1769e-01, 9.4122e-01, 9.9220e-01,\n",
      "        9.9220e-01, 4.6671e-01, 9.8078e-02, 3.9216e-05, 3.9216e-05, 3.9216e-05,\n",
      "        3.9216e-05, 3.9216e-05, 3.9216e-05, 3.9216e-05, 3.9216e-05, 3.9216e-05,\n",
      "        3.9216e-05, 3.9216e-05, 3.9216e-05, 3.9216e-05, 3.9216e-05, 3.9216e-05,\n",
      "        3.9216e-05, 3.9216e-05, 3.9216e-05, 3.9216e-05, 3.9216e-05, 3.9216e-05,\n",
      "        3.9216e-05, 3.9216e-05, 1.7651e-01, 7.2945e-01, 9.9220e-01, 9.9220e-01,\n",
      "        5.8827e-01, 1.0592e-01, 3.9216e-05, 3.9216e-05, 3.9216e-05, 3.9216e-05,\n",
      "        3.9216e-05, 3.9216e-05, 3.9216e-05, 3.9216e-05, 3.9216e-05, 3.9216e-05,\n",
      "        3.9216e-05, 3.9216e-05, 3.9216e-05, 3.9216e-05, 3.9216e-05, 3.9216e-05,\n",
      "        3.9216e-05, 3.9216e-05, 3.9216e-05, 3.9216e-05, 3.9216e-05, 3.9216e-05,\n",
      "        3.9216e-05, 6.2784e-02, 3.6475e-01, 9.8827e-01, 9.9220e-01, 7.3337e-01,\n",
      "        3.9216e-05, 3.9216e-05, 3.9216e-05, 3.9216e-05, 3.9216e-05, 3.9216e-05,\n",
      "        3.9216e-05, 3.9216e-05, 3.9216e-05, 3.9216e-05, 3.9216e-05, 3.9216e-05,\n",
      "        3.9216e-05, 3.9216e-05, 3.9216e-05, 3.9216e-05, 3.9216e-05, 3.9216e-05,\n",
      "        3.9216e-05, 3.9216e-05, 3.9216e-05, 3.9216e-05, 3.9216e-05, 3.9216e-05,\n",
      "        3.9216e-05, 9.7651e-01, 9.9220e-01, 9.7651e-01, 2.5102e-01, 3.9216e-05,\n",
      "        3.9216e-05, 3.9216e-05, 3.9216e-05, 3.9216e-05, 3.9216e-05, 3.9216e-05,\n",
      "        3.9216e-05, 3.9216e-05, 3.9216e-05, 3.9216e-05, 3.9216e-05, 3.9216e-05,\n",
      "        3.9216e-05, 3.9216e-05, 3.9216e-05, 3.9216e-05, 3.9216e-05, 3.9216e-05,\n",
      "        3.9216e-05, 3.9216e-05, 1.8043e-01, 5.0984e-01, 7.1769e-01, 9.9220e-01,\n",
      "        9.9220e-01, 8.1180e-01, 7.8824e-03, 3.9216e-05, 3.9216e-05, 3.9216e-05,\n",
      "        3.9216e-05, 3.9216e-05, 3.9216e-05, 3.9216e-05, 3.9216e-05, 3.9216e-05,\n",
      "        3.9216e-05, 3.9216e-05, 3.9216e-05, 3.9216e-05, 3.9216e-05, 3.9216e-05,\n",
      "        3.9216e-05, 3.9216e-05, 3.9216e-05, 3.9216e-05, 1.5298e-01, 5.8043e-01,\n",
      "        8.9808e-01, 9.9220e-01, 9.9220e-01, 9.9220e-01, 9.8043e-01, 7.1376e-01,\n",
      "        3.9216e-05, 3.9216e-05, 3.9216e-05, 3.9216e-05, 3.9216e-05, 3.9216e-05,\n",
      "        3.9216e-05, 3.9216e-05, 3.9216e-05, 3.9216e-05, 3.9216e-05, 3.9216e-05,\n",
      "        3.9216e-05, 3.9216e-05, 3.9216e-05, 3.9216e-05, 3.9216e-05, 3.9216e-05,\n",
      "        9.4157e-02, 4.4710e-01, 8.6671e-01, 9.9220e-01, 9.9220e-01, 9.9220e-01,\n",
      "        9.9220e-01, 7.8827e-01, 3.0592e-01, 3.9216e-05, 3.9216e-05, 3.9216e-05,\n",
      "        3.9216e-05, 3.9216e-05, 3.9216e-05, 3.9216e-05, 3.9216e-05, 3.9216e-05,\n",
      "        3.9216e-05, 3.9216e-05, 3.9216e-05, 3.9216e-05, 3.9216e-05, 3.9216e-05,\n",
      "        3.9216e-05, 3.9216e-05, 9.0235e-02, 2.5886e-01, 8.3533e-01, 9.9220e-01,\n",
      "        9.9220e-01, 9.9220e-01, 9.9220e-01, 7.7651e-01, 3.1769e-01, 7.8824e-03,\n",
      "        3.9216e-05, 3.9216e-05, 3.9216e-05, 3.9216e-05, 3.9216e-05, 3.9216e-05,\n",
      "        3.9216e-05, 3.9216e-05, 3.9216e-05, 3.9216e-05, 3.9216e-05, 3.9216e-05,\n",
      "        3.9216e-05, 3.9216e-05, 3.9216e-05, 3.9216e-05, 7.0627e-02, 6.7063e-01,\n",
      "        8.5886e-01, 9.9220e-01, 9.9220e-01, 9.9220e-01, 9.9220e-01, 7.6475e-01,\n",
      "        3.1376e-01, 3.5333e-02, 3.9216e-05, 3.9216e-05, 3.9216e-05, 3.9216e-05,\n",
      "        3.9216e-05, 3.9216e-05, 3.9216e-05, 3.9216e-05, 3.9216e-05, 3.9216e-05,\n",
      "        3.9216e-05, 3.9216e-05, 3.9216e-05, 3.9216e-05, 3.9216e-05, 3.9216e-05,\n",
      "        2.1573e-01, 6.7455e-01, 8.8631e-01, 9.9220e-01, 9.9220e-01, 9.9220e-01,\n",
      "        9.9220e-01, 9.5690e-01, 5.2161e-01, 4.3176e-02, 3.9216e-05, 3.9216e-05,\n",
      "        3.9216e-05, 3.9216e-05, 3.9216e-05, 3.9216e-05, 3.9216e-05, 3.9216e-05,\n",
      "        3.9216e-05, 3.9216e-05, 3.9216e-05, 3.9216e-05, 3.9216e-05, 3.9216e-05,\n",
      "        3.9216e-05, 3.9216e-05, 3.9216e-05, 3.9216e-05, 5.3337e-01, 9.9220e-01,\n",
      "        9.9220e-01, 9.9220e-01, 8.3141e-01, 5.2945e-01, 5.1769e-01, 6.2784e-02,\n",
      "        3.9216e-05, 3.9216e-05, 3.9216e-05, 3.9216e-05, 3.9216e-05, 3.9216e-05,\n",
      "        3.9216e-05, 3.9216e-05, 3.9216e-05, 3.9216e-05, 3.9216e-05, 3.9216e-05,\n",
      "        3.9216e-05, 3.9216e-05, 3.9216e-05, 3.9216e-05, 3.9216e-05, 3.9216e-05,\n",
      "        3.9216e-05, 3.9216e-05, 3.9216e-05, 3.9216e-05, 3.9216e-05, 3.9216e-05,\n",
      "        3.9216e-05, 3.9216e-05, 3.9216e-05, 3.9216e-05, 3.9216e-05, 3.9216e-05,\n",
      "        3.9216e-05, 3.9216e-05, 3.9216e-05, 3.9216e-05, 3.9216e-05, 3.9216e-05,\n",
      "        3.9216e-05, 3.9216e-05, 3.9216e-05, 3.9216e-05, 3.9216e-05, 3.9216e-05,\n",
      "        3.9216e-05, 3.9216e-05, 3.9216e-05, 3.9216e-05, 3.9216e-05, 3.9216e-05,\n",
      "        3.9216e-05, 3.9216e-05, 3.9216e-05, 3.9216e-05, 3.9216e-05, 3.9216e-05,\n",
      "        3.9216e-05, 3.9216e-05, 3.9216e-05, 3.9216e-05, 3.9216e-05, 3.9216e-05,\n",
      "        3.9216e-05, 3.9216e-05, 3.9216e-05, 3.9216e-05, 3.9216e-05, 3.9216e-05,\n",
      "        3.9216e-05, 3.9216e-05, 3.9216e-05, 3.9216e-05, 3.9216e-05, 3.9216e-05,\n",
      "        3.9216e-05, 3.9216e-05, 3.9216e-05, 3.9216e-05, 3.9216e-05, 3.9216e-05,\n",
      "        3.9216e-05, 3.9216e-05, 3.9216e-05, 3.9216e-05, 3.9216e-05, 3.9216e-05,\n",
      "        3.9216e-05, 3.9216e-05, 3.9216e-05, 3.9216e-05, 3.9216e-05, 3.9216e-05,\n",
      "        3.9216e-05, 3.9216e-05, 3.9216e-05, 3.9216e-05, 3.9216e-05, 3.9216e-05,\n",
      "        3.9216e-05, 3.9216e-05, 3.9216e-05, 3.9216e-05])\n"
     ]
    },
    {
     "data": {
      "image/png": "[encoded data removed]",
      "text/plain": [
       "<Figure size 432x288 with 1 Axes>"
      ]
     },
     "metadata": {
      "needs_background": "light"
     },
     "output_type": "display_data"
    }
   ],
   "source": [
    "print(train_images[0])\n",
    "plt.imshow(train_images[0].reshape(28,28))\n",
    "plt.title(str(train_labels[0]))\n",
    "plt.show()"
   ]
  },
  {
   "cell_type": "code",
   "execution_count": 28,
   "metadata": {},
   "outputs": [],
   "source": [
    "import torch\n",
    "from torch.utils import data\n",
    "\n",
    "class Dataset(data.Dataset):\n",
    "    'Characterizes a dataset for PyTorch'\n",
    "    def __init__(self, samples, labels):\n",
    "        'Initialization'\n",
    "        self.labels = labels\n",
    "        self.samples = samples\n",
    "\n",
    "    def __len__(self):\n",
    "        'Denotes the total number of samples'\n",
    "        return len(self.samples)\n",
    "\n",
    "    def __getitem__(self, index):\n",
    "        'Generates one sample of data'\n",
    "\n",
    "        # Load data and get label\n",
    "        X = self.samples[index]\n",
    "        y = self.labels[index]\n",
    "\n",
    "        return X, y"
   ]
  },
  {
   "cell_type": "code",
   "execution_count": 29,
   "metadata": {},
   "outputs": [
    {
     "name": "stdout",
     "output_type": "stream",
     "text": [
      "7402\n"
     ]
    }
   ],
   "source": [
    "print(torch.backends.cudnn.version())"
   ]
  },
  {
   "cell_type": "code",
   "execution_count": 30,
   "metadata": {},
   "outputs": [
    {
     "name": "stdout",
     "output_type": "stream",
     "text": [
      "True\n",
      "['0', '1', '2', '3', '4', '5', '6', '7', '8', '9']\n"
     ]
    }
   ],
   "source": [
    "# https://stanford.edu/~shervine/blog/pytorch-how-to-generate-data-parallel\n",
    "\n",
    "# CUDA for PyTorch\n",
    "use_cuda = torch.cuda.is_available()\n",
    "print(use_cuda)\n",
    "device = torch.device(\"cuda:0\" if use_cuda else \"cpu\")\n",
    "#cudnn.benchmark = True\n",
    "\n",
    "# Parameters\n",
    "params = {'batch_size': 64,\n",
    "          'shuffle': True,\n",
    "          'num_workers': 6}\n",
    "max_epochs = 100\n",
    "\n",
    "# Generators\n",
    "trainset = Dataset(train_images,train_labels)\n",
    "trainloader = data.DataLoader(trainset, **params)\n",
    "\n",
    "testset = Dataset(test_images, test_labels)\n",
    "testloader = data.DataLoader(testset, **params)\n",
    "\n",
    "classes = [str(a) for a in range(10)]\n",
    "print(classes)"
   ]
  },
  {
   "cell_type": "code",
   "execution_count": 31,
   "metadata": {},
   "outputs": [],
   "source": [
    "# MNIST dataset \n",
    "batch_size = 64\n",
    "train_dataset = torchvision.datasets.MNIST(root='../../data', \n",
    "                                           train=True, \n",
    "                                           transform=transforms.ToTensor(),  \n",
    "                                           download=True)\n",
    "\n",
    "test_dataset = torchvision.datasets.MNIST(root='../../data', \n",
    "                                          train=False, \n",
    "                                          transform=transforms.ToTensor())\n",
    "\n",
    "# Data loader\n",
    "train_loader = torch.utils.data.DataLoader(dataset=train_dataset, \n",
    "                                           batch_size=batch_size, \n",
    "                                           shuffle=True)\n",
    "\n",
    "test_loader = torch.utils.data.DataLoader(dataset=test_dataset, \n",
    "                                          batch_size=batch_size, \n",
    "                                          shuffle=False)"
   ]
  },
  {
   "cell_type": "code",
   "execution_count": 32,
   "metadata": {},
   "outputs": [
    {
     "name": "stdout",
     "output_type": "stream",
     "text": [
      "Pytorch\n",
      "64 784 tensor(0.)\n",
      "<class 'torch.Tensor'> <class 'torch.Tensor'>\n",
      "torch.FloatTensor torch.FloatTensor\n",
      "Mine\n",
      "64 784 tensor(3.9216e-05)\n",
      "<class 'torch.Tensor'> <class 'torch.Tensor'>\n",
      "torch.FloatTensor torch.FloatTensor\n",
      "Mine\n",
      "64 784 tensor(3.9216e-05)\n",
      "<class 'torch.Tensor'> <class 'torch.Tensor'>\n",
      "torch.FloatTensor torch.FloatTensor\n"
     ]
    }
   ],
   "source": [
    "for i, (images, labels) in enumerate(train_loader):\n",
    "    print('Pytorch')\n",
    "    y = images.reshape(-1, 28*28)\n",
    "    print(len(y),len(y[0]),y[0][0])\n",
    "    print(type(y),type(y[0]))\n",
    "    print(y.type(),y[0].type())\n",
    "    #print(labels,type(labels))\n",
    "    break\n",
    "for i, (images, labels) in enumerate(trainloader):\n",
    "    print('Mine')\n",
    "    print(len(images),len(images[0]),images[0][0])\n",
    "    print(type(images),type(images[0]))\n",
    "    print(images.type(),images[0].type())\n",
    "    #print(labels,type(labels))\n",
    "    break\n",
    "for i, (images, labels) in enumerate(trainloader):\n",
    "    images = images.float()\n",
    "    print('Mine')\n",
    "    print(len(images),len(images[0]),images[0][0])\n",
    "    print(type(images),type(images[0]))\n",
    "    print(images.type(),images[0].type())\n",
    "    #print(labels,type(labels))\n",
    "    break"
   ]
  },
  {
   "cell_type": "code",
   "execution_count": 33,
   "metadata": {},
   "outputs": [
    {
     "name": "stdout",
     "output_type": "stream",
     "text": [
      "Pytorch\n",
      "64 tensor(3)\n",
      "torch.LongTensor torch.LongTensor\n",
      "Mine\n",
      "64 tensor(0)\n",
      "torch.LongTensor torch.LongTensor\n"
     ]
    }
   ],
   "source": [
    "for i, (images, labels) in enumerate(train_loader):\n",
    "    print('Pytorch')\n",
    "    print(len(labels),labels[0])\n",
    "    print(labels.type(),labels[0].type())\n",
    "    break\n",
    "for i, (images, labels) in enumerate(trainloader):\n",
    "    print('Mine')\n",
    "    print(len(labels),labels[0])\n",
    "    print(labels.type(),labels[0].type())\n",
    "    break"
   ]
  },
  {
   "cell_type": "code",
   "execution_count": 34,
   "metadata": {},
   "outputs": [],
   "source": [
    "import torch\n",
    "import torch.nn as nn\n",
    "import torchvision\n",
    "import torchvision.transforms as transforms\n",
    "\n",
    "\n",
    "# Device configuration\n",
    "device = torch.device('cuda' if torch.cuda.is_available() else 'cpu')\n",
    "\n",
    "# Hyper-parameters \n",
    "input_size = 784\n",
    "hidden_size = 500\n",
    "num_classes = 10\n",
    "num_epochs = 5\n",
    "batch_size = 100\n",
    "learning_rate = 0.001"
   ]
  },
  {
   "cell_type": "code",
   "execution_count": 35,
   "metadata": {},
   "outputs": [],
   "source": [
    "# Fully connected neural network with one hidden layer\n",
    "class NeuralNet(nn.Module):\n",
    "    def __init__(self, input_size, hidden_size, num_classes):\n",
    "        super(NeuralNet, self).__init__()\n",
    "        self.fc1 = nn.Linear(input_size, hidden_size) \n",
    "        self.relu = nn.ReLU()\n",
    "        self.fc2 = nn.Linear(hidden_size, num_classes)  \n",
    "    \n",
    "    def forward(self, x):\n",
    "        out = self.fc1(x)\n",
    "        out = self.relu(out)\n",
    "        out = self.fc2(out)\n",
    "        return out"
   ]
  },
  {
   "cell_type": "code",
   "execution_count": 36,
   "metadata": {},
   "outputs": [],
   "source": [
    "model = NeuralNet(input_size, hidden_size, num_classes).to(device)\n",
    "\n",
    "# Loss and optimizer\n",
    "criterion = nn.CrossEntropyLoss()\n",
    "optimizer = torch.optim.Adam(model.parameters(), lr=learning_rate)  "
   ]
  },
  {
   "cell_type": "code",
   "execution_count": 37,
   "metadata": {},
   "outputs": [
    {
     "name": "stdout",
     "output_type": "stream",
     "text": [
      "Epoch [1/5], Step [100/938], Loss: 0.4004\n",
      "Epoch [1/5], Step [200/938], Loss: 0.3981\n",
      "Epoch [1/5], Step [300/938], Loss: 0.2537\n",
      "Epoch [1/5], Step [400/938], Loss: 0.1740\n",
      "Epoch [1/5], Step [500/938], Loss: 0.2221\n",
      "Epoch [1/5], Step [600/938], Loss: 0.2284\n",
      "Epoch [1/5], Step [700/938], Loss: 0.2539\n",
      "Epoch [1/5], Step [800/938], Loss: 0.1104\n",
      "Epoch [1/5], Step [900/938], Loss: 0.1664\n",
      "Epoch [2/5], Step [100/938], Loss: 0.0989\n",
      "Epoch [2/5], Step [200/938], Loss: 0.0289\n",
      "Epoch [2/5], Step [300/938], Loss: 0.1771\n",
      "Epoch [2/5], Step [400/938], Loss: 0.0537\n",
      "Epoch [2/5], Step [500/938], Loss: 0.0347\n",
      "Epoch [2/5], Step [600/938], Loss: 0.0634\n",
      "Epoch [2/5], Step [700/938], Loss: 0.0600\n",
      "Epoch [2/5], Step [800/938], Loss: 0.0961\n",
      "Epoch [2/5], Step [900/938], Loss: 0.0311\n",
      "Epoch [3/5], Step [100/938], Loss: 0.0745\n",
      "Epoch [3/5], Step [200/938], Loss: 0.0285\n",
      "Epoch [3/5], Step [300/938], Loss: 0.0274\n",
      "Epoch [3/5], Step [400/938], Loss: 0.0307\n",
      "Epoch [3/5], Step [500/938], Loss: 0.0132\n",
      "Epoch [3/5], Step [600/938], Loss: 0.0323\n",
      "Epoch [3/5], Step [700/938], Loss: 0.0291\n",
      "Epoch [3/5], Step [800/938], Loss: 0.0065\n",
      "Epoch [3/5], Step [900/938], Loss: 0.1154\n",
      "Epoch [4/5], Step [100/938], Loss: 0.0056\n",
      "Epoch [4/5], Step [200/938], Loss: 0.0337\n",
      "Epoch [4/5], Step [300/938], Loss: 0.0456\n",
      "Epoch [4/5], Step [400/938], Loss: 0.0338\n",
      "Epoch [4/5], Step [500/938], Loss: 0.0386\n",
      "Epoch [4/5], Step [600/938], Loss: 0.0989\n",
      "Epoch [4/5], Step [700/938], Loss: 0.0331\n",
      "Epoch [4/5], Step [800/938], Loss: 0.0246\n",
      "Epoch [4/5], Step [900/938], Loss: 0.0085\n",
      "Epoch [5/5], Step [100/938], Loss: 0.0238\n",
      "Epoch [5/5], Step [200/938], Loss: 0.0447\n",
      "Epoch [5/5], Step [300/938], Loss: 0.0092\n",
      "Epoch [5/5], Step [400/938], Loss: 0.0106\n",
      "Epoch [5/5], Step [500/938], Loss: 0.0739\n",
      "Epoch [5/5], Step [600/938], Loss: 0.0223\n",
      "Epoch [5/5], Step [700/938], Loss: 0.0251\n",
      "Epoch [5/5], Step [800/938], Loss: 0.1073\n",
      "Epoch [5/5], Step [900/938], Loss: 0.0050\n"
     ]
    }
   ],
   "source": [
    "# Train the model\n",
    "total_step = len(trainloader)\n",
    "for epoch in range(num_epochs):\n",
    "    for i, (images, labels) in enumerate(trainloader):  \n",
    "        # Move tensors to the configured device\n",
    "        #images = images.reshape(-1, 28*28).to(device)\n",
    "        images = images.to(device)\n",
    "        labels = labels.to(device)\n",
    "        \n",
    "        # Forward pass\n",
    "        outputs = model(images)\n",
    "        loss = criterion(outputs, labels)\n",
    "        \n",
    "        # Backward and optimize\n",
    "        optimizer.zero_grad()\n",
    "        loss.backward()\n",
    "        optimizer.step()\n",
    "        \n",
    "        if (i+1) % 100 == 0:\n",
    "            print ('Epoch [{}/{}], Step [{}/{}], Loss: {:.4f}' \n",
    "                   .format(epoch+1, num_epochs, i+1, total_step, loss.item()))\n"
   ]
  }
 ],
 "metadata": {
  "kernelspec": {
   "display_name": "Python 3",
   "language": "python",
   "name": "python3"
  },
  "language_info": {
   "codemirror_mode": {
    "name": "ipython",
    "version": 3
   },
   "file_extension": ".py",
   "mimetype": "text/x-python",
   "name": "python",
   "nbconvert_exporter": "python",
   "pygments_lexer": "ipython3",
   "version": "3.6.5"
  }
 },
 "nbformat": 4,
 "nbformat_minor": 2
}
