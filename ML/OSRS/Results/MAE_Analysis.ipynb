{
 "cells": [
  {
   "cell_type": "code",
   "execution_count": 25,
   "metadata": {},
   "outputs": [],
   "source": [
    "import pickle\n",
    "from pprint import pprint\n",
    "import numpy as np\n",
    "import matplotlib.pyplot as plt"
   ]
  },
  {
   "cell_type": "code",
   "execution_count": 26,
   "metadata": {},
   "outputs": [
    {
     "name": "stdout",
     "output_type": "stream",
     "text": [
      "/home/makoa/School/osrs_research\n",
      "['/usr/lib/python36.zip', '/usr/lib/python3.6', '/usr/lib/python3.6/lib-dynload', '', '/home/makoa/.local/lib/python3.6/site-packages', '/usr/local/lib/python3.6/dist-packages', '/usr/lib/python3/dist-packages', '/home/makoa/.local/lib/python3.6/site-packages/IPython/extensions', '/home/makoa/.ipython', '/home/makoa/School/osrs_research', '/home/makoa/School/osrs_research']\n"
     ]
    }
   ],
   "source": [
    "import sys\n",
    "import os\n",
    "address = (os.sep).join(os.getcwd().split(os.sep)[:-3])\n",
    "print(address)\n",
    "sys.path.append(address)\n",
    "print(sys.path)\n",
    "import util.items as items\n",
    "import util.scraper as scraper"
   ]
  },
  {
   "cell_type": "code",
   "execution_count": 27,
   "metadata": {},
   "outputs": [],
   "source": [
    "with open('price.pickle','rb') as f:\n",
    "    results = pickle.load(f)"
   ]
  },
  {
   "cell_type": "code",
   "execution_count": 28,
   "metadata": {},
   "outputs": [
    {
     "data": {
      "text/plain": [
       "2115"
      ]
     },
     "execution_count": 28,
     "metadata": {},
     "output_type": "execute_result"
    }
   ],
   "source": [
    "len(results)"
   ]
  },
  {
   "cell_type": "code",
   "execution_count": 29,
   "metadata": {},
   "outputs": [
    {
     "name": "stdout",
     "output_type": "stream",
     "text": [
      "1064\n"
     ]
    }
   ],
   "source": [
    "itemList = [item for item in results if len(items.getQuants(item))>0 and np.mean(items.getQuants(item)[-7:])>100 and np.median(items.getPrices(item)[-7:])>100]\n",
    "print(len(itemList))"
   ]
  },
  {
   "cell_type": "code",
   "execution_count": 30,
   "metadata": {},
   "outputs": [
    {
     "data": {
      "text/plain": [
       "dict_keys(['model_opt', 'buyAndHold', 'testPrices', 'momentum_model', 'perfect', 'startLoss', 'sma', 'predictions', 'numPrices', 'sma_model', 'stochOscil', 'momentum', 'numItems', 'item', 'persist', 'numEpochs', 'model', 'endLoss', 'startMAE', 'endMAE', 'opt_params', 'stochOscil_model'])"
      ]
     },
     "execution_count": 30,
     "metadata": {},
     "output_type": "execute_result"
    }
   ],
   "source": [
    "results['Abyssal_whip'].keys()"
   ]
  },
  {
   "cell_type": "code",
   "execution_count": 31,
   "metadata": {},
   "outputs": [],
   "source": [
    "mae = [results[item]['endMAE'] for item in itemList]\n",
    "maeChange = [results[item]['startMAE']-results[item]['endMAE'] for item in itemList]"
   ]
  },
  {
   "cell_type": "code",
   "execution_count": 36,
   "metadata": {},
   "outputs": [
    {
     "name": "stdout",
     "output_type": "stream",
     "text": [
      "0.1433034446765557 0.11560127247463572 0.11119456566524386\n"
     ]
    },
    {
     "data": {
      "image/png": "[encoded data removed]",
      "text/plain": [
       "<Figure size 432x288 with 1 Axes>"
      ]
     },
     "metadata": {
      "needs_background": "light"
     },
     "output_type": "display_data"
    },
    {
     "data": {
      "image/png": "[encoded data removed]",
      "text/plain": [
       "<Figure size 432x288 with 1 Axes>"
      ]
     },
     "metadata": {
      "needs_background": "light"
     },
     "output_type": "display_data"
    }
   ],
   "source": [
    "print(np.mean(mae),np.median(mae),np.std(mae))\n",
    "plt.hist(mae,20,range=(0,.8))\n",
    "plt.title('Item MAE')\n",
    "plt.show()\n",
    "plt.hist(maeChange,20)\n",
    "plt.show()"
   ]
  },
  {
   "cell_type": "code",
   "execution_count": 9,
   "metadata": {},
   "outputs": [],
   "source": [
    "maeChange = [(item,results[item]['startMAE']-results[item]['endMAE']) for item in itemList]\n",
    "maeChange = sorted(maeChange, key=lambda x: x[1], reverse=True)"
   ]
  },
  {
   "cell_type": "code",
   "execution_count": 10,
   "metadata": {},
   "outputs": [
    {
     "name": "stdout",
     "output_type": "stream",
     "text": [
      "[('Rune_axe', 3.024203011122617), ('Steel_warhammer', 2.7590974504297434), ('Mystic_hat', 2.640528906475414), ('Adamant_longsword', 2.585588990016417), ('Super_restore(1)', 2.38340059410442), ('Black_full_helm_(g)', 2.300574423779141), ('Adamant_med_helm', 2.2804533503272317), ('Adamant_chainbody', 2.2448882444338363), (\"Red_d'hide_body\", 2.188408615372398), ('Steel_longsword', 2.1423262411897834), ('Splitbark_gauntlets', 2.099276293407787), ('Armadyl_kiteshield', 2.0927550391717387), ('Potato_cactus', 2.0701560418714173), ('Raw_swordfish', 2.0579172427004035), ('Mystic_water_staff', 2.0442646151239225), ('Pie_shell', 2.0425365269184113), ('Adamant_full_helm', 2.028512879393318), ('Ancient_page_3', 2.0186217969114133), ('Arcane_spirit_shield', 2.0096980306235226), ('Toxic_staff_(uncharged)', 1.986421223391186), ('Mithril_brutal', 1.9848863956603136), ('Zamorak_dragonhide_set', 1.9840505266731436), ('Red_dragonhide', 1.9804013046351348), ('Armadyl_page_3', 1.967956493930383), ('Baked_potato', 1.940267546610399), ('Raw_rainbow_fish', 1.920270755074241), ('Magic_longbow', 1.9059656663374467), ('Ranarr_weed', 1.8964332363822245), (\"Blue_d'hide_chaps\", 1.8847624041817403), ('Steel_bolts_(p)', 1.878135827454654), ('Lava_scale', 1.8702165018428454), ('Sanfew_serum(4)', 1.8638319457119161), ('Black_chinchompa', 1.8631188148801978), ('Piscatoris_teleport', 1.8495508250865071), ('Teak_logs', 1.8439817233519122), ('Varrock_teleport', 1.8429384816776622), ('Rune_longsword', 1.8339733454314144), ('Blue_partyhat', 1.8217926313931292), ('Air_talisman', 1.8192498962987553), ('Armadyl_stole', 1.799531982026317), ('Green_dragon_leather', 1.7973399211059917), ('Ancient_staff', 1.7945210538127205), ('Mystic_robe_top', 1.7722891314463183), ('Rune_2h_sword', 1.755685900558125), ('Abyssal_bracelet(5)', 1.7541010851209815), ('Snakeskin_body', 1.7517231919548728), ('Odium_ward', 1.747879971428351), ('Mithril_axe', 1.7393942927772348), ('Yew_logs', 1.7339839339256287), ('Tarromin', 1.7287892200730064), ('Adamant_axe', 1.716799633340402), ('Mystic_earth_staff', 1.7154208893125709), ('Zamorak_plateskirt', 1.7149421101266686), ('Astral_rune', 1.7087734179063276), ('Dragon_plateskirt', 1.6924841398542578), ('Antidote++(4)', 1.6821716251698406), ('Raw_dark_crab', 1.680340132930062), ('Crushed_nest', 1.6645331212065435), ('Steel_kiteshield', 1.6506494224071504), ('Amulet_of_glory_(t)', 1.6488146118142388), ('Yellow_hat', 1.6401064135811545), ('Bronze_spear', 1.639635470509529), ('Candle', 1.6342199032956903), ('Super_restore(2)', 1.6330218412659385), ('Dragon_necklace', 1.6296621235934172), ('Guthix_rest(4)', 1.6193698175928808), ('Wool', 1.6111776112155483), ('Glassblowing_pipe', 1.6056176949631085), ('Black_wizard_hat_(g)', 1.6011577386747708), ('Archers_ring', 1.600254027409987), ('Nature_rune', 1.5985145433382555), ('Blue_dragonhide_set', 1.5882669519294392), ('Adamant_bolts', 1.5852529298175464), ('Rune_armour_set_(lg)', 1.5778120994567872), ('Magic_logs', 1.5765065930106423), ('Mithril_platebody', 1.5718743188814683), ('Soul_rune', 1.5670335192571987), ('Earth_battlestaff', 1.5612794794819573), ('Battlestaff', 1.5601309353655035), ('Pineapple_pizza', 1.553965604034337), ('Cowhide', 1.548640083453872), ('Pirate_boots', 1.5439191470091993), ('Ring_of_forging', 1.5384396883574398), ('Red_chinchompa', 1.5371667758985), ('Maple_seed', 1.533404458652843), ('Willow_comp_bow', 1.5320044312964787), ('Mystic_robe_bottom', 1.5239993306723507), ('Berserker_ring', 1.5083336957476354), ('Lava_battlestaff', 1.5078576694835317), ('Thin_snail', 1.5048451399261302), ('Molten_glass', 1.5044642340053211), ('Master_wand', 1.4994808711788872), ('Mithril_kiteshield', 1.4970736969601024), ('Spiny_helmet', 1.4960444764657455), ('Ghorrock_teleport', 1.4910697991197759), ('Grapes', 1.4800663178617304), ('Mystic_air_staff', 1.4745577909729697), ('Fire_battlestaff', 1.4696847969835456), ('Silver_bar', 1.4589739682999523), ('Irit_potion_(unf)', 1.445365419983864)]\n"
     ]
    }
   ],
   "source": [
    "print(maeChange[:100])"
   ]
  },
  {
   "cell_type": "code",
   "execution_count": 11,
   "metadata": {},
   "outputs": [
    {
     "name": "stdout",
     "output_type": "stream",
     "text": [
      "[('Raw_lobster', 0.002040721069682734), ('Armadyl_coif', -0.0009880428964441634), ('Emerald_necklace', -0.001211138205094775), ('Prayer_potion(4)', -0.004228357293389058), ('Steel_battleaxe', -0.004735331643711441), ('Big_bones', -0.00585811490362341), ('Lockpick', -0.008230263536626634), ('Team-15_cape', -0.008291881328279321), ('Iron_platelegs', -0.008311054923317629), ('Toktz-xil-ak', -0.009819468313997437), ('Uncut_ruby', -0.012325162237340745), ('Mithril_bar', -0.01492954248731787), ('Infinity_boots', -0.018387103622609917), ('Vodka', -0.018780927766453154), ('Cream_robe_top', -0.01911383894356815), ('Toadflax_seed', -0.020647607523609293), ('Uncut_emerald', -0.020937614142894745), ('Bracelet_of_clay', -0.023987417329441416), (\"Mage's_book\", -0.02907438305291262), ('Lantadyme_potion_(unf)', -0.03187101808461276), ('Strength_potion(3)', -0.03317844827066768), (\"Verac's_brassard\", -0.03369302045215259), ('Grimy_tarromin', -0.03801573921333662), ('Cake', -0.038983293554999604), ('Triangle_sandwich', -0.04025001227855682), ('Book_of_war_page_set', -0.04103955260731957), ('Bronze_wire', -0.04166414846073496), ('Yew_longbow', -0.042117244005203246), ('Super_strength(3)', -0.04467391493645584), ('Limpwurt_root', -0.0497107672420415), ('Pink_hat', -0.05060546303337268), ('Coconut', -0.050911846756935164), ('Ranarr_seed', -0.05113871747797186), ('Adamant_thrownaxe', -0.05157324184070933), (\"Mort'ton_teleport\", -0.051994941451332786), ('Gold_bracelet', -0.05641878409819168), ('Antipoison(4)', -0.058358689600771146), ('Zamorak_full_helm', -0.05851207212968304), ('Red_bead', -0.05856361199509014), ('Gold_amulet_(u)', -0.05901957154273989), ('Raw_shark', -0.05975731963461095), ('Team-29_cape', -0.06433319164948029), ('Watermelon_seed', -0.06692602573470635), ('Ring_of_dueling(8)', -0.06891189258206976), ('Strength_potion(2)', -0.07066137086261401), (\"Chef's_delight(m)\", -0.0712669377977198), ('Santa_hat', -0.07320717031305488), ('Superantipoison(3)', -0.07399598536166277), ('Zamorak_bracers', -0.08377211378379301), ('Saw', -0.09037164422598752), ('Zamorak_coif', -0.09051205488768493), ('Bass', -0.09093802300366488), ('Bat_bones', -0.09427711096676913), ('Potatoes(10)', -0.09618718217719685), ('Wild_pie', -0.09802999618378552), ('Sapphire', -0.10208408703858202), ('Raw_chompy', -0.1021636435931379), ('Saradomin_brew(1)', -0.10711449614980004), ('Team-11_cape', -0.10959407768466256), ('Toadflax_potion_(unf)', -0.11199975718151442), ('Granite_(5kg)', -0.11333264247937636), ('Runite_bolts', -0.11613155630501835), ('Ancient_full_helm', -0.11933244141665372), ('Serpentine_helm_(uncharged)', -0.1270788848400116), (\"Dharok's_armour_set\", -0.128753647479144), ('Cat_mask', -0.12997497536919334), ('Seers_ring', -0.13057160485874522), ('Team-9_cape', -0.13272049210288306), ('Pink_boots', -0.1351287014105103), (\"Ancient_d'hide\", -0.1373675137758255), ('Black_headband', -0.14058533629233189), ('Team-37_cape', -0.14525865641507235), ('Mithril_pickaxe', -0.14605335322293367), ('Extended_antifire(2)', -0.14740829386494375), ('Zamorakian_hasta', -0.16044809791174802), ('White_berries', -0.16083718673749403), ('Toadflax', -0.16101167798042298), ('Pizza_base', -0.1624993096698414), ('Black_platelegs_(g)', -0.16940023844892327), ('Onions(10)', -0.17172077189792287), ('Zamorak_chaps', -0.1734779745340347), ('Bandos_chestplate', -0.17577584738081153), ('Unpowered_symbol', -0.17765187553384088), ('Ancient_chaps', -0.18272141163999378), ('Enchant_sapphire_or_opal', -0.1865734063088894), ('Steel_set_(lg)', -0.188612577048215), ('Holy_symbol', -0.19331807006489146), (\"Ahrim's_robetop\", -0.19379048564217308), ('Rune_knife(p++)', -0.19850912500511517), ('Dragonstone', -0.20024180493571542), ('Amulet_of_magic_(t)', -0.20742781961506063), ('Zamorak_robe_top', -0.2180476692589846), ('Extended_antifire(1)', -0.22716085958209908), (\"Bandos_d'hide\", -0.2465052737431092), ('Bronze_bolts_(p+)', -0.32981735305352644), ('Topaz_bolt_tips', -0.3300198717550798), ('Adamant_dart(p+)', -0.3420980055223811), ('Super_defence(1)', -0.3533984088084915), ('Combat_potion(4)', -0.3830077759244225), ('Strength_mix(2)', -0.543248207934878)]\n"
     ]
    }
   ],
   "source": [
    "print(maeChange[-100:])"
   ]
  },
  {
   "cell_type": "code",
   "execution_count": 12,
   "metadata": {},
   "outputs": [],
   "source": [
    "prices = [items.getPrices(item)[-1] for item in itemList]\n",
    "numEpochs = [results[item]['numEpochs'] for item in itemList]\n",
    "variance = [np.var(results[item]['testPrices']) for item in itemList]\n",
    "buylimits = [int(items.getInfo(item)['buyLimit']) for item in itemList]\n",
    "profs = [results[item]['model'] for item in itemList]\n",
    "pers = [results[item]['persist'] for item in itemList]\n",
    "perf = [results[item]['perfect'] for item in itemList]\n",
    "bah = [results[item]['buyAndHold'] for item in itemList]\n",
    "mae = [results[item]['endMAE'] for item in itemList]\n",
    "prof_perf_diff = [abs(results[item]['perfect'] - results[item]['model']) for item in itemList]"
   ]
  },
  {
   "cell_type": "code",
   "execution_count": 24,
   "metadata": {},
   "outputs": [
    {
     "name": "stdout",
     "output_type": "stream",
     "text": [
      "price,mae 0.05364779688480283\n",
      "bl,price -0.011088838593104623\n",
      "mae,numEpochs -0.33475814214305993\n",
      "prof,numEpochs 0.08011192030813026\n",
      "prof,pers 0.10601348155692095\n",
      "mae,perf 0.11212347405475412\n",
      "mae,bah 0.056240493470886124\n",
      "profdiff,mae 0.10533760892466514\n",
      "variance,mae 0.0240321230857378\n"
     ]
    }
   ],
   "source": [
    "print('price,mae',np.corrcoef(prices,mae)[0][1])\n",
    "print('bl,price',np.corrcoef(buylimits,mae)[0][1])\n",
    "print('mae,numEpochs',np.corrcoef(mae,numEpochs)[0][1])\n",
    "print('prof,numEpochs',np.corrcoef(profs,numEpochs)[0][1])\n",
    "print('prof,pers',np.corrcoef(mae,pers)[0][1])\n",
    "print('mae,perf',np.corrcoef(mae,perf)[0][1])\n",
    "print('mae,bah',np.corrcoef(mae,bah)[0][1])\n",
    "print('profdiff,mae',np.corrcoef(prof_perf_diff,mae)[0][1])\n",
    "print('variance,mae',np.corrcoef(variance,mae)[0][1])"
   ]
  },
  {
   "cell_type": "code",
   "execution_count": 37,
   "metadata": {},
   "outputs": [
    {
     "name": "stdout",
     "output_type": "stream",
     "text": [
      "Mithril_thrownaxe\n",
      "Mithril_knife(p++)\n",
      "Unpowered_symbol\n",
      "Bagged_yew_tree\n",
      "Agility_potion(3)\n",
      "Adamant_thrownaxe\n",
      "Unstrung_emblem\n",
      "Agility_potion(1)\n",
      "Combat_potion_set\n",
      "Strength_mix(2)\n",
      "Dragon_arrow(p)\n",
      "Enchant_sapphire_or_opal\n"
     ]
    }
   ],
   "source": [
    "for item in itemList:\n",
    "    try:\n",
    "        y_pred = results[item]['predictions']\n",
    "        y_test = results[item]['testPrices']\n",
    "        true_pos = len([y_pred[i] for i in range(len(y_pred)-1) if y_pred[i+1] - y_pred[i] > 0 and y_test[i+1] - y_test[i] > 0])\n",
    "        false_pos = len([y_pred[i] for i in range(len(y_pred)-1) if y_pred[i+1] - y_pred[i] > 0 and y_test[i+1] - y_test[i] < 0])\n",
    "        true_neg = len([y_pred[i] for i in range(len(y_pred)-1) if y_pred[i+1] - y_pred[i] < 0 and y_test[i+1] - y_test[i] < 0])\n",
    "        false_neg = len([y_pred[i] for i in range(len(y_pred)-1) if y_pred[i+1] - y_pred[i] < 0 and y_test[i+1] - y_test[i] > 0])\n",
    "        results[item]['accuracy'] = (true_pos + true_neg) / (true_pos + true_neg + false_pos + false_neg)\n",
    "        prec = (true_pos) / (true_pos + false_pos + .0001)\n",
    "        results[item]['precision'] = prec\n",
    "        recall = (true_pos) / (true_pos + false_neg + .0001)\n",
    "        results[item]['recall'] = recall\n",
    "        results[item]['f1'] = (2 * recall * prec) / (recall + prec)\n",
    "    except ZeroDivisionError:\n",
    "        print(item)"
   ]
  },
  {
   "cell_type": "code",
   "execution_count": 38,
   "metadata": {},
   "outputs": [],
   "source": [
    "acc = [(item,results[item]['accuracy']) for item in results if 'accuracy' in results[item]]\n",
    "acc = sorted(acc, key=lambda x: x[1], reverse=True)\n",
    "prec = [(item,results[item]['precision']) for item in results if 'accuracy' in results[item]]\n",
    "prec = sorted(prec, key=lambda x: x[1], reverse=True)\n",
    "recall = [(item,results[item]['recall']) for item in results if 'accuracy' in results[item]]\n",
    "recall = sorted(recall, key=lambda x: x[1], reverse=True)\n",
    "f1 = [(item,results[item]['f1']) for item in results if 'f1' in results[item]]\n",
    "f1= sorted(f1, key=lambda x: x[1], reverse=True)"
   ]
  },
  {
   "cell_type": "code",
   "execution_count": 39,
   "metadata": {},
   "outputs": [
    {
     "name": "stdout",
     "output_type": "stream",
     "text": [
      "1062 1052\n"
     ]
    }
   ],
   "source": [
    "print(len(acc),len(f1))"
   ]
  },
  {
   "cell_type": "code",
   "execution_count": 40,
   "metadata": {},
   "outputs": [
    {
     "name": "stdout",
     "output_type": "stream",
     "text": [
      "0.6210008622743611 0.5772543919933233 0.5854120749330196 0.584387457859575\n"
     ]
    }
   ],
   "source": [
    "print(np.mean([a[1] for a in acc]),np.mean([a[1] for a in prec]),np.mean([a[1] for a in recall]),np.mean([a[1] for a in f1]))"
   ]
  },
  {
   "cell_type": "code",
   "execution_count": 41,
   "metadata": {},
   "outputs": [
    {
     "data": {
      "image/png": "[encoded data removed]",
      "text/plain": [
       "<Figure size 432x288 with 1 Axes>"
      ]
     },
     "metadata": {
      "needs_background": "light"
     },
     "output_type": "display_data"
    },
    {
     "data": {
      "image/png": "[encoded data removed]",
      "text/plain": [
       "<Figure size 432x288 with 1 Axes>"
      ]
     },
     "metadata": {
      "needs_background": "light"
     },
     "output_type": "display_data"
    },
    {
     "data": {
      "image/png": "[encoded data removed]",
      "text/plain": [
       "<Figure size 432x288 with 1 Axes>"
      ]
     },
     "metadata": {
      "needs_background": "light"
     },
     "output_type": "display_data"
    },
    {
     "data": {
      "image/png": "[encoded data removed]",
      "text/plain": [
       "<Figure size 432x288 with 1 Axes>"
      ]
     },
     "metadata": {
      "needs_background": "light"
     },
     "output_type": "display_data"
    }
   ],
   "source": [
    "plt.hist([a[1] for a in acc])\n",
    "plt.show()\n",
    "plt.hist([a[1] for a in prec])\n",
    "plt.show()\n",
    "plt.hist([a[1] for a in recall])\n",
    "plt.show()\n",
    "plt.hist([a[1] for a in f1])\n",
    "plt.show()"
   ]
  },
  {
   "cell_type": "code",
   "execution_count": 19,
   "metadata": {},
   "outputs": [],
   "source": [
    "numEpochs = [results[item]['numEpochs'] for item in itemList]"
   ]
  },
  {
   "cell_type": "code",
   "execution_count": 20,
   "metadata": {},
   "outputs": [
    {
     "name": "stdout",
     "output_type": "stream",
     "text": [
      "35.901315789473685 21.0\n"
     ]
    }
   ],
   "source": [
    "print(np.mean(numEpochs),np.median(numEpochs))"
   ]
  },
  {
   "cell_type": "code",
   "execution_count": 45,
   "metadata": {},
   "outputs": [
    {
     "data": {
      "image/png": "[encoded data removed]",
      "text/plain": [
       "<Figure size 432x288 with 1 Axes>"
      ]
     },
     "metadata": {
      "needs_background": "light"
     },
     "output_type": "display_data"
    }
   ],
   "source": [
    "plt.hist(numEpochs,20,range=(10,100))\n",
    "plt.title('Items Number of Epochs')\n",
    "plt.show()"
   ]
  },
  {
   "cell_type": "code",
   "execution_count": 44,
   "metadata": {},
   "outputs": [
    {
     "name": "stdout",
     "output_type": "stream",
     "text": [
      "-0.33475814214305993\n",
      "0.08011192030813026\n"
     ]
    }
   ],
   "source": [
    "print(np.corrcoef(numEpochs,mae)[0][1])\n",
    "print(np.corrcoef(numEpochs,profs)[0][1])"
   ]
  },
  {
   "cell_type": "code",
   "execution_count": 53,
   "metadata": {},
   "outputs": [],
   "source": [
    "lowMaeProf = [results[item]['model'] for item in itemList if results[item]['endMAE']<=np.median(mae)]\n",
    "lowMae = [results[item]['endMAE'] for item in itemList if results[item]['endMAE']<=np.median(mae)]"
   ]
  },
  {
   "cell_type": "code",
   "execution_count": 54,
   "metadata": {},
   "outputs": [
    {
     "name": "stdout",
     "output_type": "stream",
     "text": [
      "0.16581358672876145\n"
     ]
    }
   ],
   "source": [
    "print(np.corrcoef(lowMae,lowMaeProf)[0][1])"
   ]
  },
  {
   "cell_type": "code",
   "execution_count": null,
   "metadata": {},
   "outputs": [],
   "source": []
  }
 ],
 "metadata": {
  "kernelspec": {
   "display_name": "Python 3",
   "language": "python",
   "name": "python3"
  },
  "language_info": {
   "codemirror_mode": {
    "name": "ipython",
    "version": 3
   },
   "file_extension": ".py",
   "mimetype": "text/x-python",
   "name": "python",
   "nbconvert_exporter": "python",
   "pygments_lexer": "ipython3",
   "version": "3.6.7"
  }
 },
 "nbformat": 4,
 "nbformat_minor": 2
}
