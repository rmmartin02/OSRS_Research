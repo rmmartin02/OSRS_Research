{
 "cells": [
  {
   "cell_type": "code",
   "execution_count": 22,
   "metadata": {
    "collapsed": true
   },
   "outputs": [],
   "source": [
    "import matplotlib.pyplot as py\n",
    "import scraper\n",
    "from pprint import pprint\n",
    "import numpy as np"
   ]
  },
  {
   "cell_type": "code",
   "execution_count": 37,
   "metadata": {},
   "outputs": [],
   "source": [
    "def priceChanges(prices):\n",
    "    absChange = [0]*(len(prices)-1)\n",
    "    percChange = [0]*(len(prices)-1)\n",
    "    for i in range(0,len(prices)-1):\n",
    "        absChange[i] = prices[i+1]-prices[i]\n",
    "        percChange[i] = absChange[i]/prices[i]\n",
    "    return absChange,percChange\n",
    "\n",
    "def marginChanges(prices,buylimit):\n",
    "    absChange = [0]*(len(prices)-1)\n",
    "    percChange = [0]*(len(prices)-1)\n",
    "    for i in range(0,len(prices)-1):\n",
    "        absChange[i] = prices[i+1]*buylimit-prices[i]*buylimit\n",
    "        percChange[i] = absChange[i]/(prices[i]*buylimit)\n",
    "    return absChange,percChange\n",
    "\n",
    "def getPerfectProfit(data):\n",
    "    buyers = [10**5,10**6,10**7,10**8,10**9,10**10]\n",
    "    profit = [0] * len(buyers)\n",
    "    count = [0] * len(buyers)\n",
    "    for i in range(1,len(data)):\n",
    "        if data[i]>data[i-1]:\n",
    "            for b in range(len(buyers)):\n",
    "                amount = int(buyers[b]/data[i-1])\n",
    "                profit[b] += (data[i]-data[i-1])*amount\n",
    "                count[b] += amount\n",
    "    for b in range(len(buyers)):\n",
    "        if count[b] == 0:\n",
    "            profit[b] == 0\n",
    "        else:\n",
    "            profit[b]/=count[b]\n",
    "    return profit"
   ]
  },
  {
   "cell_type": "code",
   "execution_count": 25,
   "metadata": {},
   "outputs": [],
   "source": [
    "itemInfo = scraper.loadItemInfo()\n",
    "itemPrices = scraper.loadItemPrices()\n",
    "\n",
    "for item in itemPrices:\n",
    "    prices = [a[1] for a in itemPrices[item]]\n",
    "    mean = np.mean(prices)\n",
    "    std = np.std(prices)\n",
    "    itemPrices[item] = [itemPrices[item][i] for i in range(len(prices)) if prices[i]>mean+2*std]"
   ]
  },
  {
   "cell_type": "code",
   "execution_count": 52,
   "metadata": {},
   "outputs": [],
   "source": [
    "profits = []\n",
    "for item in itemPrices:\n",
    "    profits.append((getPerfectProfit([a[1] for a in itemPrices[item]]),item))\n",
    "\n",
    "def getKey(item):\n",
    "    return item[0][1]\n",
    "    \n",
    "profits.sort(key=getKey,reverse=True)"
   ]
  },
  {
   "cell_type": "code",
   "execution_count": 53,
   "metadata": {},
   "outputs": [
    {
     "name": "stdout",
     "output_type": "stream",
     "text": [
      "[([0,\n   164214.8108108108,\n   171809.68690702086,\n   171307.0640339546,\n   171299.93000312897,\n   171295.10883592733],\n  'Uncharged_trident'),\n ([0,\n   113034.9074074074,\n   110978.94416243654,\n   110979.37189460477,\n   110973.63892022899,\n   110972.71401854164],\n  'Dragon_sq_shield_ornament_kit'),\n ([0,\n   91440.0,\n   50405.45038167939,\n   50381.60975609756,\n   50373.816554969344,\n   50374.10837638508],\n  'Black_gold-trimmed_set_(lg)'),\n ([0,\n   54920.011235955055,\n   54799.961127308066,\n   54750.72887526346,\n   54733.57826565265,\n   54732.76480147374],\n  'Team-11_cape'),\n ([0,\n   48825.0,\n   46073.3698630137,\n   46038.08355091384,\n   46047.380475757185,\n   46047.52635545104],\n  'Iron_platebody_(g)'),\n ([0,\n   43046.0,\n   35638.05263157895,\n   35516.994897959186,\n   35491.064401622716,\n   35490.943779783025],\n  'Elder_chaos_top'),\n ([0,\n   40802.0,\n   47408.90909090909,\n   47496.92505353319,\n   47503.03765957447,\n   47502.5322117532],\n  'Evil_chicken_head'),\n ([0,\n   40373.0,\n   44280.45945945946,\n   44236.84575835476,\n   44244.74540347293,\n   44244.69649646585],\n  'Gilded_hasta'),\n ([0,\n   40155.25,\n   35135.61666666667,\n   35058.90080645162,\n   35063.00967366435,\n   35062.42606263892],\n  'Katana'),\n ([0,\n   38251.0,\n   33177.35779816514,\n   33295.808982210554,\n   33294.76372987738,\n   33294.536175898225],\n  'Bandos_boots')]\n"
     ]
    }
   ],
   "source": [
    "pprint(profits[:10])"
   ]
  },
  {
   "cell_type": "code",
   "execution_count": null,
   "metadata": {},
   "outputs": [],
   "source": []
  }
 ],
 "metadata": {
  "kernelspec": {
   "display_name": "Python 2",
   "language": "python",
   "name": "python2"
  },
  "language_info": {
   "codemirror_mode": {
    "name": "ipython",
    "version": 2
   },
   "file_extension": ".py",
   "mimetype": "text/x-python",
   "name": "python",
   "nbconvert_exporter": "python",
   "pygments_lexer": "ipython2",
   "version": "2.7.6"
  }
 },
 "nbformat": 4,
 "nbformat_minor": 0
}
