{
 "cells": [
  {
   "cell_type": "code",
   "execution_count": 1,
   "metadata": {},
   "outputs": [],
   "source": [
    "import pickle\n",
    "from pprint import pprint\n",
    "import numpy as np\n",
    "import matplotlib.pyplot as plt\n",
    "from sklearn.preprocessing import StandardScaler"
   ]
  },
  {
   "cell_type": "code",
   "execution_count": 3,
   "metadata": {},
   "outputs": [
    {
     "name": "stdout",
     "output_type": "stream",
     "text": [
      "/home/makoa/School/osrs_research\n",
      "['/usr/lib/python36.zip', '/usr/lib/python3.6', '/usr/lib/python3.6/lib-dynload', '', '/home/makoa/.local/lib/python3.6/site-packages', '/usr/local/lib/python3.6/dist-packages', '/usr/lib/python3/dist-packages', '/home/makoa/.local/lib/python3.6/site-packages/IPython/extensions', '/home/makoa/.ipython', '/home/makoa/School/osrs_research']\n"
     ]
    }
   ],
   "source": [
    "import sys\n",
    "import os\n",
    "address = (os.sep).join(os.getcwd().split(os.sep)[:-3])\n",
    "print(address)\n",
    "sys.path.append(address)\n",
    "print(sys.path)\n",
    "import util.items as items\n",
    "import util.scraper as scraper\n",
    "import util.trading_systems as ts"
   ]
  },
  {
   "cell_type": "code",
   "execution_count": 4,
   "metadata": {},
   "outputs": [],
   "source": [
    "with open('all.pickle','rb') as f:\n",
    "    results = pickle.load(f)"
   ]
  },
  {
   "cell_type": "code",
   "execution_count": 14,
   "metadata": {},
   "outputs": [
    {
     "data": {
      "text/plain": [
       "dict_keys(['sma', 'buyAndHold', 'startMAE', 'predictions', 'persist', 'endMAE', 'sma_model', 'stochOscil', 'numPrices', 'budget', 'momentum_model', 'testPrices', 'momentum', 'endLoss', 'numEpochs', 'startLoss', 'model_opt', 'perfect', 'opt_params', 'item', 'model', 'stochOscil_model'])"
      ]
     },
     "execution_count": 14,
     "metadata": {},
     "output_type": "execute_result"
    }
   ],
   "source": [
    "results['Abyssal_whip'].keys()"
   ]
  },
  {
   "cell_type": "code",
   "execution_count": 15,
   "metadata": {},
   "outputs": [],
   "source": [
    "for item in results:\n",
    "    r = results[item]\n",
    "    test_prices = r['testPrices']\n",
    "    budget = test_prices[0]*101-1\n",
    "    y_pred = r['predictions']\n",
    "    best = [-1000,1,1]\n",
    "    for buyDays in range(1,8):\n",
    "        for sellDays in range(1,8):\n",
    "            buySigs = [y_pred[i+buyDays] >= y_pred[i] for i in range(0, len(y_pred)-buyDays)]\n",
    "            buySigs = buySigs + [False]*buyDays\n",
    "            for i in range(len(buySigs)):\n",
    "                if buySigs[i]:\n",
    "                    for j in range(1,buyDays-1):\n",
    "                        buySigs[i+j] = False\n",
    "            sellSigs = [y_pred[i+sellDays] <= y_pred[i] for i in range(0, len(y_pred)-sellDays)]\n",
    "            sellSigs = sellSigs + [False]*sellDays\n",
    "            for i in range(len(sellSigs)):\n",
    "                if sellSigs[i]:\n",
    "                    for j in range(1,sellDays-1):\n",
    "                        sellSigs[i+j] = False\n",
    "            profit = ts.modelProfit(buySigs, sellSigs, test_prices, budget)\n",
    "            if profit[-1]>best[0]:\n",
    "                best = [profit[-1],buyDays,sellDays]\n",
    "    results[item]['model_opt_days'] = best[0]\n",
    "    results[item]['buyDays'] = best[1]\n",
    "    results[item]['sellDays'] = best[2]"
   ]
  },
  {
   "cell_type": "code",
   "execution_count": 20,
   "metadata": {},
   "outputs": [],
   "source": [
    "modelProfs = [(item,results[item]['model_opt_days']) for item in results]\n",
    "modelProfs = sorted(modelProfs, key=lambda x: x[1], reverse=True)"
   ]
  },
  {
   "cell_type": "code",
   "execution_count": 21,
   "metadata": {},
   "outputs": [
    {
     "name": "stdout",
     "output_type": "stream",
     "text": [
      "[('Empty_sack', 862.9966832504145),\n",
      " ('Empty_fishbowl', 511.0),\n",
      " ('Cadavaberry_seed', 511.0),\n",
      " ('Ring_mould', 178.5558312655087),\n",
      " ('Basket', 174.72470978441126),\n",
      " ('Unlit_torch', 143.0),\n",
      " ('Air_tiara', 132.0),\n",
      " ('Noose_wand', 95.0),\n",
      " ('Iron_dagger', 87.6887417218543),\n",
      " ('Jute_seed', 74.0)]\n"
     ]
    }
   ],
   "source": [
    "pprint(modelProfs[0:10])"
   ]
  },
  {
   "cell_type": "code",
   "execution_count": 24,
   "metadata": {},
   "outputs": [],
   "source": [
    "modVSpers = [(item,results[item]['model_opt_days']-results[item]['persist']) for item in results ]\n",
    "modVSbah = [(item,results[item]['model_opt_days']-results[item]['buyAndHold']) for item in results ]\n",
    "modVSpers = sorted(modVSpers, key=lambda x: x[1], reverse=True)\n",
    "modVSbah = sorted(modVSbah, key=lambda x: x[1], reverse=True)"
   ]
  },
  {
   "cell_type": "code",
   "execution_count": 26,
   "metadata": {},
   "outputs": [
    {
     "name": "stdout",
     "output_type": "stream",
     "text": [
      "[('Empty_sack', 862.8598673300165),\n",
      " ('Cadavaberry_seed', 511.9651741293532),\n",
      " ('Empty_fishbowl', 511.62),\n",
      " ('Basket', 175.66169154228854),\n",
      " ('Unlit_torch', 143.74834437086093),\n",
      " ('Air_tiara', 125.72883597883597),\n",
      " ('Ring_mould', 102.56823821339951),\n",
      " ('Noose_wand', 95.66556291390728),\n",
      " ('Iron_dagger', 77.65121412803532),\n",
      " ('Jute_seed', 73.41768292682927)]\n"
     ]
    }
   ],
   "source": [
    "pprint(modVSpers[0:10])"
   ]
  },
  {
   "cell_type": "code",
   "execution_count": 27,
   "metadata": {},
   "outputs": [
    {
     "data": {
      "image/png": "[encoded data removed]",
      "text/plain": [
       "<Figure size 432x288 with 1 Axes>"
      ]
     },
     "metadata": {
      "needs_background": "light"
     },
     "output_type": "display_data"
    },
    {
     "data": {
      "image/png": "[encoded data removed]",
      "text/plain": [
       "<Figure size 432x288 with 1 Axes>"
      ]
     },
     "metadata": {
      "needs_background": "light"
     },
     "output_type": "display_data"
    }
   ],
   "source": [
    "plt.hist([a[1] for a in modVSpers],30)\n",
    "plt.show()\n",
    "plt.hist([a[1] for a in modVSpers if a[1]>-6 and a[1]<.6],30)\n",
    "plt.show()"
   ]
  },
  {
   "cell_type": "code",
   "execution_count": 30,
   "metadata": {},
   "outputs": [],
   "source": [
    "modVSperf = [(item,results[item]['model_opt_days']-results[item]['perfect']) for item in results ]\n",
    "modVSperf = sorted(modVSperf, key=lambda x: x[1], reverse=True)"
   ]
  },
  {
   "cell_type": "code",
   "execution_count": 31,
   "metadata": {},
   "outputs": [
    {
     "data": {
      "image/png": "[encoded data removed]",
      "text/plain": [
       "<Figure size 432x288 with 1 Axes>"
      ]
     },
     "metadata": {
      "needs_background": "light"
     },
     "output_type": "display_data"
    },
    {
     "data": {
      "image/png": "[encoded data removed]",
      "text/plain": [
       "<Figure size 432x288 with 1 Axes>"
      ]
     },
     "metadata": {
      "needs_background": "light"
     },
     "output_type": "display_data"
    }
   ],
   "source": [
    "plt.hist([a[1] for a in modVSperf],30)\n",
    "plt.show()\n",
    "plt.hist([a[1] for a in modVSperf if a[1]>-6 and a[1]<.6],30)\n",
    "plt.show()"
   ]
  },
  {
   "cell_type": "code",
   "execution_count": 32,
   "metadata": {},
   "outputs": [],
   "source": [
    "numProfModels = len([a for a in modelProfs if a[1]>0])\n",
    "numProfmodVSpers = len([a for a in modVSpers if a[1]>0])\n",
    "numProfmodVSbah = len([a for a in modVSbah if a[1]>0])\n",
    "numProfmodVSperf = len([a for a in modVSperf if a[1]>0])"
   ]
  },
  {
   "cell_type": "code",
   "execution_count": 33,
   "metadata": {},
   "outputs": [
    {
     "name": "stdout",
     "output_type": "stream",
     "text": [
      "2115\n",
      "0.9593380614657211\n",
      "0.9295508274231679\n",
      "0.9333333333333333\n",
      "0.00047281323877068556\n"
     ]
    }
   ],
   "source": [
    "print(len(results))\n",
    "print(numProfModels/len(results))\n",
    "print(numProfmodVSpers/len(results))\n",
    "print(numProfmodVSbah/len(results))\n",
    "print(numProfmodVSperf/len(results))"
   ]
  },
  {
   "cell_type": "code",
   "execution_count": null,
   "metadata": {},
   "outputs": [],
   "source": []
  }
 ],
 "metadata": {
  "kernelspec": {
   "display_name": "Python 3",
   "language": "python",
   "name": "python3"
  },
  "language_info": {
   "codemirror_mode": {
    "name": "ipython",
    "version": 3
   },
   "file_extension": ".py",
   "mimetype": "text/x-python",
   "name": "python",
   "nbconvert_exporter": "python",
   "pygments_lexer": "ipython3",
   "version": "3.6.7"
  }
 },
 "nbformat": 4,
 "nbformat_minor": 2
}
