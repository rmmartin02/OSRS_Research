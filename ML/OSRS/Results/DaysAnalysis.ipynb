{
 "cells": [
  {
   "cell_type": "code",
   "execution_count": 1,
   "metadata": {},
   "outputs": [],
   "source": [
    "import pickle\n",
    "from pprint import pprint\n",
    "import numpy as np\n",
    "import matplotlib.pyplot as plt\n",
    "from sklearn.preprocessing import StandardScaler"
   ]
  },
  {
   "cell_type": "code",
   "execution_count": 3,
   "metadata": {},
   "outputs": [
    {
     "name": "stdout",
     "output_type": "stream",
     "text": [
      "/home/makoa/School/osrs_research\n",
      "['/usr/lib/python36.zip', '/usr/lib/python3.6', '/usr/lib/python3.6/lib-dynload', '', '/home/makoa/.local/lib/python3.6/site-packages', '/usr/local/lib/python3.6/dist-packages', '/usr/lib/python3/dist-packages', '/home/makoa/.local/lib/python3.6/site-packages/IPython/extensions', '/home/makoa/.ipython', '/home/makoa/School/osrs_research']\n"
     ]
    }
   ],
   "source": [
    "import sys\n",
    "import os\n",
    "address = (os.sep).join(os.getcwd().split(os.sep)[:-3])\n",
    "print(address)\n",
    "sys.path.append(address)\n",
    "print(sys.path)\n",
    "import util.items as items\n",
    "import util.scraper as scraper\n",
    "import util.trading_systems as ts"
   ]
  },
  {
   "cell_type": "code",
   "execution_count": 34,
   "metadata": {},
   "outputs": [],
   "source": [
    "with open('all_price2.pickle','rb') as f:\n",
    "    results = pickle.load(f)"
   ]
  },
  {
   "cell_type": "code",
   "execution_count": 35,
   "metadata": {},
   "outputs": [
    {
     "data": {
      "text/plain": [
       "2115"
      ]
     },
     "execution_count": 35,
     "metadata": {},
     "output_type": "execute_result"
    }
   ],
   "source": [
    "len(results)"
   ]
  },
  {
   "cell_type": "code",
   "execution_count": 36,
   "metadata": {},
   "outputs": [
    {
     "data": {
      "text/plain": [
       "dict_keys(['endMAE', 'startLoss', 'opt_params', 'perfect', 'momentum_model', 'model_opt', 'sma', 'testPrices', 'buyAndHold', 'numPrices', 'item', 'startMAE', 'numEpochs', 'budget', 'model', 'stochOscil_model', 'stochOscil', 'opt_days', 'predictions', 'persist', 'sma_model', 'momentum', 'model_days', 'endLoss'])"
      ]
     },
     "execution_count": 36,
     "metadata": {},
     "output_type": "execute_result"
    }
   ],
   "source": [
    "results['Abyssal_whip'].keys()"
   ]
  },
  {
   "cell_type": "code",
   "execution_count": 37,
   "metadata": {},
   "outputs": [],
   "source": [
    "modelProfs = [(item,results[item]['model_days']) for item in results]\n",
    "modelProfs = sorted(modelProfs, key=lambda x: x[1], reverse=True)"
   ]
  },
  {
   "cell_type": "code",
   "execution_count": 38,
   "metadata": {},
   "outputs": [
    {
     "name": "stdout",
     "output_type": "stream",
     "text": [
      "[('Empty_sack', 431.0),\n",
      " ('Ring_mould', 157.88235294117655),\n",
      " ('Air_tiara', 115.25933609958506),\n",
      " ('Jangerberry_seed', 69.7897435897436),\n",
      " ('Empty_fishbowl', 62.47826086956523),\n",
      " ('Basket', 59.71951219512196),\n",
      " ('Iron_dagger', 58.15277777777778),\n",
      " ('Shortbow_(u)', 52.795918367346935),\n",
      " ('Shears', 35.78023212280045),\n",
      " ('Cadavaberry_seed', 30.844221105527637)]\n"
     ]
    }
   ],
   "source": [
    "pprint(modelProfs[0:10])"
   ]
  },
  {
   "cell_type": "code",
   "execution_count": 39,
   "metadata": {},
   "outputs": [],
   "source": [
    "modVSpers = [(item,results[item]['model_days']-results[item]['persist']) for item in results ]\n",
    "modVSbah = [(item,results[item]['model_days']-results[item]['buyAndHold']) for item in results ]\n",
    "modVSpers = sorted(modVSpers, key=lambda x: x[1], reverse=True)\n",
    "modVSbah = sorted(modVSbah, key=lambda x: x[1], reverse=True)"
   ]
  },
  {
   "cell_type": "code",
   "execution_count": 54,
   "metadata": {},
   "outputs": [
    {
     "name": "stdout",
     "output_type": "stream",
     "text": [
      "[('Empty_sack', 430.85714285714283),\n",
      " ('Air_tiara', 109.00414937759335),\n",
      " ('Ring_mould', 84.5588235294118),\n",
      " ('Jangerberry_seed', 69.71282051282051),\n",
      " ('Empty_fishbowl', 63.09239130434784),\n",
      " ('Basket', 60.63617886178862),\n",
      " ('Shortbow_(u)', 52.62244897959183),\n",
      " ('Iron_dagger', 48.11226851851852),\n",
      " ('Cadavaberry_seed', 31.804020100502512),\n",
      " ('Dwellberry_seed', 29.939393939393938)]\n"
     ]
    }
   ],
   "source": [
    "pprint(modVSpers[0:10])"
   ]
  },
  {
   "cell_type": "code",
   "execution_count": 42,
   "metadata": {},
   "outputs": [
    {
     "data": {
      "image/png": "[encoded data removed]",
      "text/plain": [
       "<Figure size 432x288 with 1 Axes>"
      ]
     },
     "metadata": {
      "needs_background": "light"
     },
     "output_type": "display_data"
    },
    {
     "data": {
      "image/png": "[encoded data removed]",
      "text/plain": [
       "<Figure size 432x288 with 1 Axes>"
      ]
     },
     "metadata": {
      "needs_background": "light"
     },
     "output_type": "display_data"
    }
   ],
   "source": [
    "plt.hist([a[1] for a in modVSpers],30)\n",
    "plt.show()\n",
    "plt.hist([a[1] for a in modVSpers if a[1]>-2 and a[1]<2],30)\n",
    "plt.show()"
   ]
  },
  {
   "cell_type": "code",
   "execution_count": 44,
   "metadata": {},
   "outputs": [],
   "source": [
    "modVSperf = [(item,results[item]['model_days']-results[item]['perfect']) for item in results ]\n",
    "modVSperf = sorted(modVSperf, key=lambda x: x[1], reverse=True)"
   ]
  },
  {
   "cell_type": "code",
   "execution_count": 45,
   "metadata": {},
   "outputs": [
    {
     "data": {
      "image/png": "[encoded data removed]",
      "text/plain": [
       "<Figure size 432x288 with 1 Axes>"
      ]
     },
     "metadata": {
      "needs_background": "light"
     },
     "output_type": "display_data"
    },
    {
     "data": {
      "image/png": "[encoded data removed]",
      "text/plain": [
       "<Figure size 432x288 with 1 Axes>"
      ]
     },
     "metadata": {
      "needs_background": "light"
     },
     "output_type": "display_data"
    }
   ],
   "source": [
    "plt.hist([a[1] for a in modVSperf],30)\n",
    "plt.show()\n",
    "plt.hist([a[1] for a in modVSperf if a[1]>-6 and a[1]<.6],30)\n",
    "plt.show()"
   ]
  },
  {
   "cell_type": "code",
   "execution_count": 46,
   "metadata": {},
   "outputs": [],
   "source": [
    "numProfModels = len([a for a in modelProfs if a[1]>0])\n",
    "numProfmodVSpers = len([a for a in modVSpers if a[1]>0])\n",
    "numProfmodVSbah = len([a for a in modVSbah if a[1]>0])\n",
    "numProfmodVSperf = len([a for a in modVSperf if a[1]>0])"
   ]
  },
  {
   "cell_type": "code",
   "execution_count": 47,
   "metadata": {},
   "outputs": [
    {
     "name": "stdout",
     "output_type": "stream",
     "text": [
      "2115\n",
      "0.9475177304964539\n",
      "0.9078014184397163\n",
      "0.9295508274231679\n",
      "0.00047281323877068556\n"
     ]
    }
   ],
   "source": [
    "print(len(results))\n",
    "print(numProfModels/len(results))\n",
    "print(numProfmodVSpers/len(results))\n",
    "print(numProfmodVSbah/len(results))\n",
    "print(numProfmodVSperf/len(results))"
   ]
  },
  {
   "cell_type": "code",
   "execution_count": 48,
   "metadata": {},
   "outputs": [],
   "source": [
    "buyDays = [results[item]['opt_days'][0] for item in results]\n",
    "sellDays = [results[item]['opt_days'][0] for item in results]"
   ]
  },
  {
   "cell_type": "code",
   "execution_count": 52,
   "metadata": {},
   "outputs": [
    {
     "data": {
      "image/png": "[encoded data removed]",
      "text/plain": [
       "<Figure size 432x288 with 1 Axes>"
      ]
     },
     "metadata": {
      "needs_background": "light"
     },
     "output_type": "display_data"
    },
    {
     "data": {
      "image/png": "[encoded data removed]",
      "text/plain": [
       "<Figure size 432x288 with 1 Axes>"
      ]
     },
     "metadata": {
      "needs_background": "light"
     },
     "output_type": "display_data"
    }
   ],
   "source": [
    "plt.hist(buyDays,7)\n",
    "plt.show()\n",
    "plt.hist(sellDays,7)\n",
    "plt.show()"
   ]
  },
  {
   "cell_type": "code",
   "execution_count": 63,
   "metadata": {},
   "outputs": [],
   "source": [
    "actualModProfs = [(item,items.getPrices(item)[-1]*results[item]['model_days']) for item in results if items.getPrices(item)[-1]<10000000]\n",
    "actualModProfs = sorted(actualModProfs, key=lambda x: x[1], reverse=True)"
   ]
  },
  {
   "cell_type": "code",
   "execution_count": 65,
   "metadata": {
    "scrolled": true
   },
   "outputs": [
    {
     "name": "stdout",
     "output_type": "stream",
     "text": [
      "[('Serpentine_helm_(uncharged)', 7661829.568803223),\n",
      " ('Uncharged_toxic_trident', 7246635.324387021),\n",
      " ('Serpentine_visage', 7075638.519514311),\n",
      " (\"Pharaoh's_sceptre_(3)\", 6071959.545295495),\n",
      " (\"Pharaoh's_sceptre\", 6061783.616511657),\n",
      " ('Toxic_staff_(uncharged)', 5944802.822795146),\n",
      " ('Old_school_bond', 5850049.713338571),\n",
      " ('Staff_of_the_dead', 5503266.729853985),\n",
      " (\"Rangers'_tunic\", 4514912.867659404),\n",
      " ('Magic_fang', 4021849.6412819917),\n",
      " ('Eternal_crystal', 3906648.1256441297),\n",
      " ('Zamorak_godsword', 3861379.619828924),\n",
      " ('Smouldering_stone', 3791603.261826654),\n",
      " ('Eternal_boots', 3340786.995646696),\n",
      " ('Gilded_boots', 3079603.717613525),\n",
      " ('Smoke_battlestaff', 2989955.335876215),\n",
      " ('Mystic_smoke_staff', 2989451.4661713815),\n",
      " ('Toxic_blowpipe_(empty)', 2790353.231173047),\n",
      " ('Master_wand', 2758150.013257864),\n",
      " ('Tanzanite_fang', 2686030.0481425542),\n",
      " ('Dragon_pickaxe', 2634797.3121677763),\n",
      " (\"Mage's_book\", 2544853.0391331767),\n",
      " ('Abyssal_dagger_(p++)', 2505102.417384416),\n",
      " ('Abyssal_dagger', 2474532.3850191496),\n",
      " (\"Saradomin's_tear\", 2408835.53427854)]\n"
     ]
    }
   ],
   "source": [
    "pprint(actualModProfs[:25])"
   ]
  },
  {
   "cell_type": "code",
   "execution_count": 70,
   "metadata": {},
   "outputs": [],
   "source": [
    "modelProfs = [(item,results[item]['model_days']) for item in results if items.getPrices(item)[-1]>100]\n",
    "modelProfs = sorted(modelProfs, key=lambda x: x[1], reverse=True)"
   ]
  },
  {
   "cell_type": "code",
   "execution_count": 71,
   "metadata": {},
   "outputs": [
    {
     "name": "stdout",
     "output_type": "stream",
     "text": [
      "[('Mind_talisman', 21.676169359096185),\n",
      " ('Wool', 8.996576871558267),\n",
      " ('Cleaning_cloth', 8.324515636918385),\n",
      " ('Coconut', 7.400333775094489),\n",
      " ('Vampyre_dust', 5.916828929068151),\n",
      " ('Silver_sickle', 5.137746234067206),\n",
      " ('Royal_crown', 4.85121510870856),\n",
      " ('Jangerberries', 4.578091217955317),\n",
      " ('Feldip_hills_teleport', 4.435842881999225),\n",
      " ('Goblin_book', 4.426370162843634)]\n"
     ]
    }
   ],
   "source": [
    "pprint(modelProfs[0:10])"
   ]
  },
  {
   "cell_type": "code",
   "execution_count": null,
   "metadata": {},
   "outputs": [],
   "source": [
    "plt.plot(items.getPrices('Mind_tali'))"
   ]
  }
 ],
 "metadata": {
  "kernelspec": {
   "display_name": "Python 3",
   "language": "python",
   "name": "python3"
  },
  "language_info": {
   "codemirror_mode": {
    "name": "ipython",
    "version": 3
   },
   "file_extension": ".py",
   "mimetype": "text/x-python",
   "name": "python",
   "nbconvert_exporter": "python",
   "pygments_lexer": "ipython3",
   "version": "3.6.7"
  }
 },
 "nbformat": 4,
 "nbformat_minor": 2
}
